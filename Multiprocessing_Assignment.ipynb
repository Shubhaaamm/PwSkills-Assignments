{
 "cells": [
  {
   "cell_type": "code",
   "execution_count": 2,
   "id": "e8a36912-d6b1-439a-91e3-444371298f1b",
   "metadata": {},
   "outputs": [
    {
     "data": {
      "text/plain": [
       "'Q1. What is multiprocessing in Python? Why is it useful?\\nMultiprocessing is a module in Python that allows you to create and manage multiple processes. Each process runs in its own separate memory space, allowing for true parallel execution on multi-core CPUs. This is useful for achieving better performance and improved utilization of available resources, especially for CPU-bound tasks.\\n'"
      ]
     },
     "execution_count": 2,
     "metadata": {},
     "output_type": "execute_result"
    }
   ],
   "source": [
    "'''Q1. What is multiprocessing in Python? Why is it useful?\n",
    "Multiprocessing is a module in Python that allows you to create and manage multiple processes. Each process runs in its own separate memory space, allowing for true parallel execution on multi-core CPUs. This is useful for achieving better performance and improved utilization of available resources, especially for CPU-bound tasks.\n",
    "'''"
   ]
  },
  {
   "cell_type": "code",
   "execution_count": 3,
   "id": "da6236a2-0e7c-4d25-a4f0-0bb4bb6349a5",
   "metadata": {},
   "outputs": [
    {
     "data": {
      "text/plain": [
       "'Q-2. What are the differences between multiprocessing and multithreading?\\n\\n1. In multiprocessing, multiple processes run in separate memory spaces and can achieve true parallelism, while in multithreading, multiple threads      share the same memory space and are limited by the Global Interpreter Lock (GIL) in CPython, allowing only one thread to execute Python bytecode at    a time.\\n2. Multiprocessing is better suited for CPU-bound tasks, while multithreading is often used for I/O-bound tasks.\\n3. Multiprocessing has more memory overhead due to separate memory spaces, while multithreading has less memory overhead.\\n4. Multiprocessing can fully utilize multiple CPU cores, whereas multithreading may not achieve true parallelism due to the GIL.'"
      ]
     },
     "execution_count": 3,
     "metadata": {},
     "output_type": "execute_result"
    }
   ],
   "source": [
    "'''Q-2. What are the differences between multiprocessing and multithreading?\n",
    "\n",
    "1. In multiprocessing, multiple processes run in separate memory spaces and can achieve true parallelism, while in multithreading, multiple threads      share the same memory space and are limited by the Global Interpreter Lock (GIL) in CPython, allowing only one thread to execute Python bytecode at    a time.\n",
    "2. Multiprocessing is better suited for CPU-bound tasks, while multithreading is often used for I/O-bound tasks.\n",
    "3. Multiprocessing has more memory overhead due to separate memory spaces, while multithreading has less memory overhead.\n",
    "4. Multiprocessing can fully utilize multiple CPU cores, whereas multithreading may not achieve true parallelism due to the GIL.'''"
   ]
  },
  {
   "cell_type": "code",
   "execution_count": 4,
   "id": "8d864476-b0f0-45eb-a2a5-fde2961d79d1",
   "metadata": {},
   "outputs": [
    {
     "name": "stdout",
     "output_type": "stream",
     "text": [
      "Square: 25\n"
     ]
    }
   ],
   "source": [
    "# Q-3:\n",
    "\n",
    "import multiprocessing\n",
    "\n",
    "def print_square(number):\n",
    "    print(\"Square:\", number * number)\n",
    "\n",
    "if __name__ == \"__main__\":\n",
    "    process = multiprocessing.Process(target=print_square, args=(5,))\n",
    "    process.start()\n",
    "    process.join()\n"
   ]
  },
  {
   "cell_type": "raw",
   "id": "555b9e89-df88-4e51-b4a7-5b7579cb23d0",
   "metadata": {},
   "source": [
    "Q-4:\n",
    "\n",
    "A multiprocessing pool is a way to create a group of worker processes that can be used to parallelize and \n",
    "distribute the execution of a function across multiple inputs. \n",
    "\n",
    "It is used to achieve parallelism when applying\n",
    "a function to a large set of data, improving efficiency and performance."
   ]
  },
  {
   "cell_type": "code",
   "execution_count": 5,
   "id": "541ba293-f35d-4f4f-95a7-ab44a4c90b25",
   "metadata": {},
   "outputs": [
    {
     "name": "stdout",
     "output_type": "stream",
     "text": [
      "[1, 4, 9, 16]\n"
     ]
    }
   ],
   "source": [
    "# Q-5:\n",
    "\n",
    "import multiprocessing\n",
    "\n",
    "def print_square(number):\n",
    "    return number * number\n",
    "\n",
    "if __name__ == \"__main__\":\n",
    "    with multiprocessing.Pool(processes=4) as pool:\n",
    "        results = pool.map(print_square, [1, 2, 3, 4])\n",
    "        print(results)\n"
   ]
  },
  {
   "cell_type": "code",
   "execution_count": 6,
   "id": "e3139cbc-3efc-4180-8d68-0387c7d7ffe2",
   "metadata": {},
   "outputs": [
    {
     "name": "stdout",
     "output_type": "stream",
     "text": [
      "Number: 12Number:\n",
      " \n",
      "Number: 3\n",
      "Number: 4\n"
     ]
    }
   ],
   "source": [
    "# Q-6:\n",
    "\n",
    "import multiprocessing\n",
    "\n",
    "def print_number(number):\n",
    "    print(\"Number:\", number)\n",
    "\n",
    "if __name__ == \"__main__\":\n",
    "    processes = []\n",
    "    for i in range(1, 5):\n",
    "        process = multiprocessing.Process(target=print_number, args=(i,))\n",
    "        processes.append(process)\n",
    "        process.start()\n",
    "\n",
    "    for process in processes:\n",
    "        process.join()\n"
   ]
  },
  {
   "cell_type": "code",
   "execution_count": null,
   "id": "41255b53-d8f2-4723-8d1a-e5c5fb6dcbe8",
   "metadata": {},
   "outputs": [],
   "source": []
  }
 ],
 "metadata": {
  "kernelspec": {
   "display_name": "Python 3 (ipykernel)",
   "language": "python",
   "name": "python3"
  },
  "language_info": {
   "codemirror_mode": {
    "name": "ipython",
    "version": 3
   },
   "file_extension": ".py",
   "mimetype": "text/x-python",
   "name": "python",
   "nbconvert_exporter": "python",
   "pygments_lexer": "ipython3",
   "version": "3.10.8"
  }
 },
 "nbformat": 4,
 "nbformat_minor": 5
}
