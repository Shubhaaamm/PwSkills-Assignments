{
 "cells": [
  {
   "cell_type": "code",
   "execution_count": 20,
   "id": "5fbff791-6298-4656-ada0-dd74a6264538",
   "metadata": {},
   "outputs": [
    {
     "data": {
      "text/plain": [
       "'Statistics basic Assignment-2'"
      ]
     },
     "execution_count": 20,
     "metadata": {},
     "output_type": "execute_result"
    }
   ],
   "source": [
    "'''Statistics basic Assignment-2'''"
   ]
  },
  {
   "cell_type": "code",
   "execution_count": 21,
   "id": "fffa125e-d8d7-48fc-95f9-8c39d4261431",
   "metadata": {},
   "outputs": [
    {
     "data": {
      "text/plain": [
       "'Q1. What are the three measures of central tendency?\\nans: There are three measures of central tendency as:\\n1. Mean\\n2. Median\\n3. Mode\\nMean: The mean is the average of a set of values. It is calculated by summing all the values in a dataset and then dividing the sum by the total number of values.\\n\\nMedian: The median is the middle value in a dataset when the values are arranged in ascending or descending order. If the dataset has an even number of values, the median is calculated by taking the average of the two middle values.\\n\\nMode: The mode is the value that appears most frequently in a dataset. If there are multiple values that appear with the same frequency, then the dataset is said to have multiple modes.'"
      ]
     },
     "execution_count": 21,
     "metadata": {},
     "output_type": "execute_result"
    }
   ],
   "source": [
    "'''Q1. What are the three measures of central tendency?\n",
    "ans: There are three measures of central tendency as:\n",
    "1. Mean\n",
    "2. Median\n",
    "3. Mode\n",
    "Mean: The mean is the average of a set of values. It is calculated by summing all the values in a dataset and then dividing the sum by the total number of values.\n",
    "\n",
    "Median: The median is the middle value in a dataset when the values are arranged in ascending or descending order. If the dataset has an even number of values, the median is calculated by taking the average of the two middle values.\n",
    "\n",
    "Mode: The mode is the value that appears most frequently in a dataset. If there are multiple values that appear with the same frequency, then the dataset is said to have multiple modes.'''"
   ]
  },
  {
   "cell_type": "code",
   "execution_count": 22,
   "id": "c0bffaca-a972-4529-a0fa-93809341d9a7",
   "metadata": {},
   "outputs": [
    {
     "data": {
      "text/plain": [
       "'Q2. What is the difference between the mean, median, and mode? How are they used to measure the central tendency of a dataset?\\nAns:The mean, median, and mode are all measures of central tendency, but they differ in how they represent the center of a dataset.\\n\\nThe mean is the arithmetic average of a set of values. It is calculated by adding up all the values in the dataset and dividing by the total number of values. The mean is sensitive to extreme values, which means that a few unusually high or low values can significantly impact the mean.\\n\\nThe median is the middle value in a dataset when the values are arranged in order from smallest to largest. If there is an even number of values, the median is the average of the two middle values. The median is a good measure of central tendency when the dataset contains extreme values or outliers, as it is not affected by these values.\\n\\nThe mode is the value that appears most frequently in a dataset. A dataset can have more than one mode if there are multiple values that appear with the same frequency. The mode is a good measure of central tendency for categorical data or discrete variables.\\n\\nTo measure the central tendency of a dataset, you can use any of these measures depending on the nature of the data and the research question you are trying to answer. The mean is commonly used for continuous variables that are normally distributed, while the median is often used for skewed data or when outliers are present. The mode is useful for categorical data or when you want to know the most common value in a dataset.'"
      ]
     },
     "execution_count": 22,
     "metadata": {},
     "output_type": "execute_result"
    }
   ],
   "source": [
    "'''Q2. What is the difference between the mean, median, and mode? How are they used to measure the central tendency of a dataset?\n",
    "Ans:The mean, median, and mode are all measures of central tendency, but they differ in how they represent the center of a dataset.\n",
    "\n",
    "The mean is the arithmetic average of a set of values. It is calculated by adding up all the values in the dataset and dividing by the total number of values. The mean is sensitive to extreme values, which means that a few unusually high or low values can significantly impact the mean.\n",
    "\n",
    "The median is the middle value in a dataset when the values are arranged in order from smallest to largest. If there is an even number of values, the median is the average of the two middle values. The median is a good measure of central tendency when the dataset contains extreme values or outliers, as it is not affected by these values.\n",
    "\n",
    "The mode is the value that appears most frequently in a dataset. A dataset can have more than one mode if there are multiple values that appear with the same frequency. The mode is a good measure of central tendency for categorical data or discrete variables.\n",
    "\n",
    "To measure the central tendency of a dataset, you can use any of these measures depending on the nature of the data and the research question you are trying to answer. The mean is commonly used for continuous variables that are normally distributed, while the median is often used for skewed data or when outliers are present. The mode is useful for categorical data or when you want to know the most common value in a dataset.'''"
   ]
  },
  {
   "cell_type": "code",
   "execution_count": 11,
   "id": "a0115e45-c41c-4356-bc50-9b9003b97375",
   "metadata": {},
   "outputs": [
    {
     "name": "stdout",
     "output_type": "stream",
     "text": [
      "177.01875\n",
      "177.0\n",
      "178\n"
     ]
    }
   ],
   "source": [
    "'''Q3. Measure the three measures of central tendency for the given height data:\n",
    "[178,177,176,177,178.2,178,175,179,180,175,178.9,176.2,177,172.5,178,176.5]'''\n",
    "\n",
    "heights=[178,177,176,177,178.2,178,175,179,180,175,178.9,176.2,177,172.5,178,176.5]\n",
    "import numpy as np\n",
    "import statistics as stat\n",
    "print(np.mean(heights))\n",
    "print(np.median(heights))\n",
    "print(stat.mode(heights))"
   ]
  },
  {
   "cell_type": "code",
   "execution_count": 16,
   "id": "2bd5947c-6721-4ece-b1f5-dadd16619e2a",
   "metadata": {},
   "outputs": [
    {
     "name": "stdout",
     "output_type": "stream",
     "text": [
      "1.8472389305844188\n",
      "1.7885814036548633\n"
     ]
    }
   ],
   "source": [
    "'''Q4:Find the standard deviation for the given data:\n",
    "[178,177,176,177,178.2,178,175,179,180,175,178.9,176.2,177,172.5,\n",
    "178,176.5]'''\n",
    "\n",
    "data=[178,177,176,177,178.2,178,175,179,180,175,178.9,176.2,177,172.5,178,176.5]\n",
    "import numpy as np\n",
    "import statistics as stats\n",
    "print(stats.stdev(data))\n",
    "print(np.std(data))"
   ]
  },
  {
   "cell_type": "code",
   "execution_count": 23,
   "id": "30c57f7b-d6b4-4e9b-8fc2-cefa7eb2f8ac",
   "metadata": {},
   "outputs": [
    {
     "data": {
      "text/plain": [
       "'Q.5> How are measures of dispersion such as range, variance,\\nand standard deviation used to describe the spread of a dataset?\\nProvide an example.\\nAns:\\nRange: The range is the difference between the maximum and minimum values in a dataset. It gives a rough estimate of the spread of the data. For example, if we have a dataset of test scores with a range of 40, we can say that the scores are spread out over a range of 40 points.\\n\\nVariance: The variance is the average of the squared differences from the mean. It measures how much the data points deviate from the mean. A higher variance indicates a greater spread of the data. For example, if we have a dataset of the heights of students in a class with a variance of 4, we can say that the heights of the students are spread out over a range of 2 cm on either side of the mean.\\n\\nStandard deviation: The standard deviation is the square root of the variance. It measures the spread of the data in the same units as the original data. A higher standard deviation indicates a greater spread of the data. For example, if we have a dataset of the weights of apples in a basket with a standard deviation of 2 kg, we can say that the weights of the apples are spread out over a range of 4 kg on either side of the mean.\\n\\nAs an example, consider the following dataset of test scores:\\n\\n[85, 90, 75, 80, 95, 70, 85, 90, 80, 75]\\n\\nThe mean score is 82, and we can calculate the measures of dispersion as follows:\\n\\nRange: The range is the difference between the maximum and minimum values, which is 25 (95 - 70). \\nVariance: The variance is the average of the squared differences from the mean, which is 62.5. \\nStandard deviation: The standard deviation is the square root of the variance, which is approximately 7.91.\\n'"
      ]
     },
     "execution_count": 23,
     "metadata": {},
     "output_type": "execute_result"
    }
   ],
   "source": [
    "'''Q.5> How are measures of dispersion such as range, variance,\n",
    "and standard deviation used to describe the spread of a dataset?\n",
    "Provide an example.\n",
    "Ans:\n",
    "Range: The range is the difference between the maximum and minimum values in a dataset. It gives a rough estimate of the spread of the data. For example, if we have a dataset of test scores with a range of 40, we can say that the scores are spread out over a range of 40 points.\n",
    "\n",
    "Variance: The variance is the average of the squared differences from the mean. It measures how much the data points deviate from the mean. A higher variance indicates a greater spread of the data. For example, if we have a dataset of the heights of students in a class with a variance of 4, we can say that the heights of the students are spread out over a range of 2 cm on either side of the mean.\n",
    "\n",
    "Standard deviation: The standard deviation is the square root of the variance. It measures the spread of the data in the same units as the original data. A higher standard deviation indicates a greater spread of the data. For example, if we have a dataset of the weights of apples in a basket with a standard deviation of 2 kg, we can say that the weights of the apples are spread out over a range of 4 kg on either side of the mean.\n",
    "\n",
    "As an example, consider the following dataset of test scores:\n",
    "\n",
    "[85, 90, 75, 80, 95, 70, 85, 90, 80, 75]\n",
    "\n",
    "The mean score is 82, and we can calculate the measures of dispersion as follows:\n",
    "\n",
    "Range: The range is the difference between the maximum and minimum values, which is 25 (95 - 70). \n",
    "Variance: The variance is the average of the squared differences from the mean, which is 62.5. \n",
    "Standard deviation: The standard deviation is the square root of the variance, which is approximately 7.91.\n",
    "'''"
   ]
  },
  {
   "cell_type": "code",
   "execution_count": 24,
   "id": "0ba0bba1-2244-4bc8-aa9e-dd85df72c04f",
   "metadata": {},
   "outputs": [
    {
     "data": {
      "text/plain": [
       "'Q.6> What is a Venn diagram?\\nA Venn diagram is a visual representation of the relationships between sets of data. It is a diagram that shows all possible logical relations between a finite collection of sets, often represented as circles that overlap or are disjoint. Venn diagrams are commonly used to illustrate simple set relationships in logic, statistics, probability, and computer science.\\n\\nIn a Venn diagram, each circle represents a set, and the region where the circles overlap represents the intersection of those sets. The areas outside the circles represent the complement of those sets.'"
      ]
     },
     "execution_count": 24,
     "metadata": {},
     "output_type": "execute_result"
    }
   ],
   "source": [
    "'''Q.6> What is a Venn diagram?\n",
    "A Venn diagram is a visual representation of the relationships between sets of data. It is a diagram that shows all possible logical relations between a finite collection of sets, often represented as circles that overlap or are disjoint. Venn diagrams are commonly used to illustrate simple set relationships in logic, statistics, probability, and computer science.\n",
    "\n",
    "In a Venn diagram, each circle represents a set, and the region where the circles overlap represents the intersection of those sets. The areas outside the circles represent the complement of those sets.'''"
   ]
  },
  {
   "cell_type": "code",
   "execution_count": 19,
   "id": "c24d8563-5d44-4d50-ba03-93c68b934e7f",
   "metadata": {},
   "outputs": [
    {
     "name": "stdout",
     "output_type": "stream",
     "text": [
      "intersection: {2, 6}\n",
      "union: {0, 2, 3, 4, 5, 6, 7, 8, 10}\n"
     ]
    }
   ],
   "source": [
    "'''Q7. For the two given sets A = (2,3,4,5,6,7) & B = (0,2,6,8,10).\n",
    "Find:\n",
    "(i) A ⋂ B (ii) A ⋃ B'''\n",
    "A = {2,3,4,5,6,7}\n",
    "B = {0,2,6,8,10}\n",
    "print('intersection:', A.intersection(B))\n",
    "print('union:', A.union(B))\n",
    "\n"
   ]
  },
  {
   "cell_type": "code",
   "execution_count": 25,
   "id": "a59b4101-5187-4dbe-b960-6639433fa541",
   "metadata": {},
   "outputs": [
    {
     "data": {
      "text/plain": [
       "'Q8. What do you understand about skewness in data?\\nIn statistics, skewness is a measure of the asymmetry of a probability distribution. Skewness refers to the degree to which the data is not symmetrically distributed around the mean. It indicates whether the data is skewed to the left or to the right of the mean.\\n\\nIf a distribution is symmetrical, then it has zero skewness. If the tail of the distribution is longer on the right side than on the left side, then the distribution is said to be positively skewed, and it has a positive skewness. On the other hand, if the tail of the distribution is longer on the left side than on the right side, then the distribution is said to be negatively skewed, and it has a negative skewness.'"
      ]
     },
     "execution_count": 25,
     "metadata": {},
     "output_type": "execute_result"
    }
   ],
   "source": [
    "'''Q8. What do you understand about skewness in data?\n",
    "In statistics, skewness is a measure of the asymmetry of a probability distribution. Skewness refers to the degree to which the data is not symmetrically distributed around the mean. It indicates whether the data is skewed to the left or to the right of the mean.\n",
    "\n",
    "If a distribution is symmetrical, then it has zero skewness. If the tail of the distribution is longer on the right side than on the left side, then the distribution is said to be positively skewed, and it has a positive skewness. On the other hand, if the tail of the distribution is longer on the left side than on the right side, then the distribution is said to be negatively skewed, and it has a negative skewness.'''"
   ]
  },
  {
   "cell_type": "code",
   "execution_count": 26,
   "id": "7361e691-1c5e-4473-b632-0ecef62726c9",
   "metadata": {},
   "outputs": [
    {
     "data": {
      "text/plain": [
       "'Q9. If a data is right skewed then what will be the position of median with respect to mean?\\nIf a data set is right-skewed, it means that the tail of the distribution is longer on the right side, and the data is concentrated on the left side of the distribution. In this case, the mean is greater than the median.\\n\\nTo understand why this is the case, consider a right-skewed distribution like income. In this distribution, there are a small number of individuals who earn very high incomes, which pull the mean to the right. However, most people earn lower incomes, so the median is not as affected by the high earners and remains closer to the center of the distribution.\\n\\nTherefore, the median will be to the left of the mean in a right-skewed distribution.'"
      ]
     },
     "execution_count": 26,
     "metadata": {},
     "output_type": "execute_result"
    }
   ],
   "source": [
    "'''Q9. If a data is right skewed then what will be the position of median with respect to mean?\n",
    "If a data set is right-skewed, it means that the tail of the distribution is longer on the right side, and the data is concentrated on the left side of the distribution. In this case, the mean is greater than the median.\n",
    "\n",
    "To understand why this is the case, consider a right-skewed distribution like income. In this distribution, there are a small number of individuals who earn very high incomes, which pull the mean to the right. However, most people earn lower incomes, so the median is not as affected by the high earners and remains closer to the center of the distribution.\n",
    "\n",
    "Therefore, the median will be to the left of the mean in a right-skewed distribution.'''"
   ]
  },
  {
   "cell_type": "code",
   "execution_count": 27,
   "id": "5e8813c6-84f6-415d-a51b-a882851d637a",
   "metadata": {},
   "outputs": [
    {
     "data": {
      "text/plain": [
       "'Q10. Explain the difference between covariance and correlation. How are these measures used in statistical analysis?\\nCovariance and correlation are two statistical measures that are used to quantify the relationship between two variables.\\n\\nCovariance is a measure of how two variables vary together. It measures the degree to which two variables are linearly related. A positive covariance indicates that the two variables move in the same direction, while a negative covariance indicates that they move in opposite directions. However, the magnitude of covariance does not have a standardized scale and it can be affected by the scale of the variables being measured.\\n\\nCorrelation, on the other hand, is a measure of the strength and direction of the linear relationship between two variables. Correlation ranges from -1 to +1, where -1 indicates a perfect negative correlation, 0 indicates no correlation, and +1 indicates a perfect positive correlation. Correlation is standardized, which means that it is not affected by the scale of the variables being measured.\\n\\nIn statistical analysis, covariance and correlation are used to assess the relationship between two variables. They help to identify patterns and trends in the data, and to determine the strength and direction of the relationship between the variables. They are also used to test hypotheses and to make predictions about the behavior of the variables.'"
      ]
     },
     "execution_count": 27,
     "metadata": {},
     "output_type": "execute_result"
    }
   ],
   "source": [
    "'''Q10. Explain the difference between covariance and correlation. How are these measures used in statistical analysis?\n",
    "Covariance and correlation are two statistical measures that are used to quantify the relationship between two variables.\n",
    "\n",
    "Covariance is a measure of how two variables vary together. It measures the degree to which two variables are linearly related. A positive covariance indicates that the two variables move in the same direction, while a negative covariance indicates that they move in opposite directions. However, the magnitude of covariance does not have a standardized scale and it can be affected by the scale of the variables being measured.\n",
    "\n",
    "Correlation, on the other hand, is a measure of the strength and direction of the linear relationship between two variables. Correlation ranges from -1 to +1, where -1 indicates a perfect negative correlation, 0 indicates no correlation, and +1 indicates a perfect positive correlation. Correlation is standardized, which means that it is not affected by the scale of the variables being measured.\n",
    "\n",
    "In statistical analysis, covariance and correlation are used to assess the relationship between two variables. They help to identify patterns and trends in the data, and to determine the strength and direction of the relationship between the variables. They are also used to test hypotheses and to make predictions about the behavior of the variables.'''"
   ]
  },
  {
   "cell_type": "code",
   "execution_count": 28,
   "id": "1bd7f552-bf01-4004-b1af-a9994586c945",
   "metadata": {},
   "outputs": [
    {
     "data": {
      "text/plain": [
       "'Q11. What is the formula for calculating the sample mean? Provide an example calculation for a dataset.\\nThe formula for calculating the sample mean is:\\n\\nSample Mean = (Sum of all observations) / (Number of observations) In other words, the sample mean is calculated by adding up all the values in a sample and dividing by the number of observations in the sample.\\n\\nHere is an example calculation:\\n\\nSuppose we have the following dataset: [4, 7, 9, 12, 15]\\n\\nTo calculate the sample mean, we add up all the values and divide by the number of observations:\\n\\nSample Mean = (4 + 7 + 9 + 12 + 15) / 5 = 47 / 5 = 9.4\\n\\nTherefore, the sample mean for this dataset is 9.4.'"
      ]
     },
     "execution_count": 28,
     "metadata": {},
     "output_type": "execute_result"
    }
   ],
   "source": [
    "'''Q11. What is the formula for calculating the sample mean? Provide an example calculation for a dataset.\n",
    "The formula for calculating the sample mean is:\n",
    "\n",
    "Sample Mean = (Sum of all observations) / (Number of observations) In other words, the sample mean is calculated by adding up all the values in a sample and dividing by the number of observations in the sample.\n",
    "\n",
    "Here is an example calculation:\n",
    "\n",
    "Suppose we have the following dataset: [4, 7, 9, 12, 15]\n",
    "\n",
    "To calculate the sample mean, we add up all the values and divide by the number of observations:\n",
    "\n",
    "Sample Mean = (4 + 7 + 9 + 12 + 15) / 5 = 47 / 5 = 9.4\n",
    "\n",
    "Therefore, the sample mean for this dataset is 9.4.'''"
   ]
  },
  {
   "cell_type": "code",
   "execution_count": 29,
   "id": "e1a26d5c-4239-4676-bff5-9055448ddad6",
   "metadata": {},
   "outputs": [
    {
     "data": {
      "text/plain": [
       "'Q12. For a normal distribution data what is the relationship between its measure of central tendency?\\nFor a normal distribution, the measures of central tendency, namely the mean, median, and mode, are all equal. In other words, they have the same value.\\n\\nThis is because a normal distribution is a symmetric distribution, with equal amounts of data on both sides of the mean. The median, which is the middle value of the dataset, is also the same as the mean in a normal distribution.\\n\\nAdditionally, the mode, which is the value that occurs most frequently in the dataset, is also equal to the mean and median in a normal distribution.\\n\\nTherefore, for a normal distribution, the mean, median, and mode are all the same value, and they all represent the center or midpoint of the distribution.'"
      ]
     },
     "execution_count": 29,
     "metadata": {},
     "output_type": "execute_result"
    }
   ],
   "source": [
    "'''Q12. For a normal distribution data what is the relationship between its measure of central tendency?\n",
    "For a normal distribution, the measures of central tendency, namely the mean, median, and mode, are all equal. In other words, they have the same value.\n",
    "\n",
    "This is because a normal distribution is a symmetric distribution, with equal amounts of data on both sides of the mean. The median, which is the middle value of the dataset, is also the same as the mean in a normal distribution.\n",
    "\n",
    "Additionally, the mode, which is the value that occurs most frequently in the dataset, is also equal to the mean and median in a normal distribution.\n",
    "\n",
    "Therefore, for a normal distribution, the mean, median, and mode are all the same value, and they all represent the center or midpoint of the distribution.'''"
   ]
  },
  {
   "cell_type": "code",
   "execution_count": 30,
   "id": "b47a53d6-d10d-4dce-90c0-abd5b91750aa",
   "metadata": {},
   "outputs": [
    {
     "data": {
      "text/plain": [
       "'Q13. How is covariance different from correlation?\\nThe function of covariance is a correlation. The values of correlation are standardised, but covariance values are not. The correlation coefficient can be obtained by dividing the covariance of the variables by the product of their standard deviation values. Standard deviation measures the variability of datasets absolutely. When it is divided by the standard deviation, it falls in the range of -1 to +1, which is the range of correlation values. The normalised form of covariance is a correlation.\\n\\nIn the formula of covariance, the units are assumed from the product of the units of the variables. Correlation is non-dimensional. It is a measure of the relationship between the variables. The covariance value is affected by the change of scale in the variables. If all the values of one variable are multiplied to a constant and all the values of the other variable are multiplied by a similar or a different constant, the covariance value changes. Doing the same, the correlation value is not affected by the change in the scale of the variables.'"
      ]
     },
     "execution_count": 30,
     "metadata": {},
     "output_type": "execute_result"
    }
   ],
   "source": [
    "'''Q13. How is covariance different from correlation?\n",
    "The function of covariance is a correlation. The values of correlation are standardised, but covariance values are not. The correlation coefficient can be obtained by dividing the covariance of the variables by the product of their standard deviation values. Standard deviation measures the variability of datasets absolutely. When it is divided by the standard deviation, it falls in the range of -1 to +1, which is the range of correlation values. The normalised form of covariance is a correlation.\n",
    "\n",
    "In the formula of covariance, the units are assumed from the product of the units of the variables. Correlation is non-dimensional. It is a measure of the relationship between the variables. The covariance value is affected by the change of scale in the variables. If all the values of one variable are multiplied to a constant and all the values of the other variable are multiplied by a similar or a different constant, the covariance value changes. Doing the same, the correlation value is not affected by the change in the scale of the variables.'''"
   ]
  },
  {
   "cell_type": "code",
   "execution_count": 31,
   "id": "9d27dafd-ab80-4365-9338-8b26e8809b10",
   "metadata": {},
   "outputs": [
    {
     "data": {
      "text/plain": [
       "'Q14. How do outliers affect measures of central tendency and dispersion? Provide an example.\\nOutliers are data points that are significantly different from other observations in a dataset. Outliers can have a significant impact on measures of central tendency and dispersion.\\n\\nMeasures of central tendency, such as the mean, are affected by outliers because they are calculated using all the data points in the dataset. If there are outliers present, they can significantly pull the mean in one direction or another, causing it to be an inaccurate representation of the center of the dataset.\\n\\nFor example, suppose we have the following dataset: [2, 3, 4, 5, 6, 7, 100]. The mean of this dataset is (2+3+4+5+6+7+100) / 7 = 18.43. However, the outlier value of 100 is significantly larger than all the other values in the dataset, which makes the mean an inaccurate representation of the center of the dataset.\\n\\nOutliers can also affect measures of dispersion, such as the range, variance, and standard deviation. Outliers can increase the range of the dataset, which makes it difficult to interpret the spread of the data. Outliers can also increase the variance and standard deviation, which makes the spread of the data appear larger than it actually is.\\n\\nFor example, suppose we have the following dataset: [2, 3, 4, 5, 6, 7, 100]. The range of this dataset is 98, which makes the spread of the data appear much larger than it actually is. The variance of this dataset is 1372.8, which is also significantly larger than it would be if the outlier were not present.'"
      ]
     },
     "execution_count": 31,
     "metadata": {},
     "output_type": "execute_result"
    }
   ],
   "source": [
    "'''Q14. How do outliers affect measures of central tendency and dispersion? Provide an example.\n",
    "Outliers are data points that are significantly different from other observations in a dataset. Outliers can have a significant impact on measures of central tendency and dispersion.\n",
    "\n",
    "Measures of central tendency, such as the mean, are affected by outliers because they are calculated using all the data points in the dataset. If there are outliers present, they can significantly pull the mean in one direction or another, causing it to be an inaccurate representation of the center of the dataset.\n",
    "\n",
    "For example, suppose we have the following dataset: [2, 3, 4, 5, 6, 7, 100]. The mean of this dataset is (2+3+4+5+6+7+100) / 7 = 18.43. However, the outlier value of 100 is significantly larger than all the other values in the dataset, which makes the mean an inaccurate representation of the center of the dataset.\n",
    "\n",
    "Outliers can also affect measures of dispersion, such as the range, variance, and standard deviation. Outliers can increase the range of the dataset, which makes it difficult to interpret the spread of the data. Outliers can also increase the variance and standard deviation, which makes the spread of the data appear larger than it actually is.\n",
    "\n",
    "For example, suppose we have the following dataset: [2, 3, 4, 5, 6, 7, 100]. The range of this dataset is 98, which makes the spread of the data appear much larger than it actually is. The variance of this dataset is 1372.8, which is also significantly larger than it would be if the outlier were not present.'''"
   ]
  },
  {
   "cell_type": "code",
   "execution_count": null,
   "id": "f746e9c1-0e9b-4bb8-bdb9-9b6ab8135e2a",
   "metadata": {},
   "outputs": [],
   "source": []
  }
 ],
 "metadata": {
  "kernelspec": {
   "display_name": "Python 3 (ipykernel)",
   "language": "python",
   "name": "python3"
  },
  "language_info": {
   "codemirror_mode": {
    "name": "ipython",
    "version": 3
   },
   "file_extension": ".py",
   "mimetype": "text/x-python",
   "name": "python",
   "nbconvert_exporter": "python",
   "pygments_lexer": "ipython3",
   "version": "3.12.4"
  }
 },
 "nbformat": 4,
 "nbformat_minor": 5
}
