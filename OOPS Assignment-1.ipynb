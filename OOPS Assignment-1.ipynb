{
 "cells": [
  {
   "cell_type": "code",
   "execution_count": 2,
   "id": "beb7004a-9df3-4ae2-be60-470444a8fdd4",
   "metadata": {},
   "outputs": [
    {
     "name": "stdout",
     "output_type": "stream",
     "text": [
      "Buddy\n",
      "Labrador\n",
      "Woof!\n"
     ]
    }
   ],
   "source": [
    "# Question 1\n",
    "\n",
    "'''Class: A class is a blueprint or template that defines the structure and behavior of objects.\n",
    "It encapsulates data (attributes) and functions (methods) that operate on the data. Classes are used\n",
    "to create objects, which are instances of the class.\n",
    "\n",
    "Object: An object is a real-world entity that is created based on the class definition. It represents\n",
    "a specific instance of the class, with its own set of attributes and the ability to perform actions \n",
    "defined by the class's methods.\n",
    "'''\n",
    "\n",
    "class Dog:\n",
    "    def __init__(self, name, breed):\n",
    "        self.name = name\n",
    "        self.breed = breed\n",
    "    \n",
    "    def bark(self):\n",
    "        return \"Woof!\"\n",
    "\n",
    "# Creating objects \n",
    "dog1 = Dog(\"Buddy\", \"Golden Retriever\")\n",
    "dog2 = Dog(\"Max\", \"Labrador\")\n",
    "\n",
    "\n",
    "print(dog1.name)       \n",
    "print(dog2.breed)      \n",
    "print(dog1.bark())     \n"
   ]
  },
  {
   "cell_type": "code",
   "execution_count": 3,
   "id": "42acc946-bcec-49b5-bc8b-cb875b812ba7",
   "metadata": {},
   "outputs": [
    {
     "data": {
      "text/plain": [
       "'\\nEncapsulation: Bundling of data (attributes) and methods (functions) that operate on the data into a single unit,\\n             known as a class.\\nAbstraction: Hiding the complex implementation details and exposing only the necessary features to the user.\\nInheritance: Allowing a class (subclass/derived class) to inherit properties and behaviors from another class\\n             (base class/parent class).\\nPolymorphism: The ability of objects to take on different forms or respond differently to the same method call.\\n              It enables flexibility and extensibility in the code.\\n'"
      ]
     },
     "execution_count": 3,
     "metadata": {},
     "output_type": "execute_result"
    }
   ],
   "source": [
    "#Question 2\n",
    "\n",
    "'''\n",
    "Encapsulation: Bundling of data (attributes) and methods (functions) that operate on the data into a single unit,\n",
    "             known as a class.\n",
    "Abstraction: Hiding the complex implementation details and exposing only the necessary features to the user.\n",
    "Inheritance: Allowing a class (subclass/derived class) to inherit properties and behaviors from another class\n",
    "             (base class/parent class).\n",
    "Polymorphism: The ability of objects to take on different forms or respond differently to the same method call.\n",
    "              It enables flexibility and extensibility in the code.\n",
    "'''              "
   ]
  },
  {
   "cell_type": "code",
   "execution_count": 4,
   "id": "be62dc8f-86f2-4921-b34c-8d776d0491b0",
   "metadata": {},
   "outputs": [
    {
     "name": "stdout",
     "output_type": "stream",
     "text": [
      "Alice\n",
      "22\n"
     ]
    }
   ],
   "source": [
    "#Question 3\n",
    "\n",
    "'''The __init__() function is a special method in Python classes that is automatically called when an object \n",
    "is created from the class. It initializes the object's attributes and performs any necessary setup.'''\n",
    "\n",
    "class Student:\n",
    "    def __init__(self, name, age):\n",
    "        self.name = name\n",
    "        self.age = age\n",
    "\n",
    "# Creating objects \n",
    "student1 = Student(\"Alice\", 20)\n",
    "student2 = Student(\"Bob\", 22)\n",
    "\n",
    "\n",
    "print(student1.name)  \n",
    "print(student2.age)   \n"
   ]
  },
  {
   "cell_type": "code",
   "execution_count": 5,
   "id": "abbd9c65-6d42-4134-b250-3c95853da667",
   "metadata": {},
   "outputs": [
    {
     "data": {
      "text/plain": [
       "\"In OOP, self is used as a convention to refer to the instance of the class itself. When defining \\nmethods in a class, the first parameter should be self, which refers to the object calling the\\nmethod. It allows access to the object's attributes and methods within the class methods.\""
      ]
     },
     "execution_count": 5,
     "metadata": {},
     "output_type": "execute_result"
    }
   ],
   "source": [
    "#Question 4\n",
    "\n",
    "'''In OOP, self is used as a convention to refer to the instance of the class itself. When defining \n",
    "methods in a class, the first parameter should be self, which refers to the object calling the\n",
    "method. It allows access to the object's attributes and methods within the class methods.'''"
   ]
  },
  {
   "cell_type": "code",
   "execution_count": 7,
   "id": "1bd01014-cf2c-4b41-8b4e-01ed0be6a22c",
   "metadata": {},
   "outputs": [
    {
     "name": "stdout",
     "output_type": "stream",
     "text": [
      "Woof!\n",
      "Meow!\n",
      "Squawk!\n"
     ]
    }
   ],
   "source": [
    "#Question 5\n",
    "\n",
    "'''Inheritance: Inheritance is a fundamental concept in OOP where a new class (subclass or derived class)\n",
    "is created based on an existing class (base class or parent class). The new class inherits the attributes\n",
    "and methods of the existing class, allowing for code reuse and extension.'''\n",
    "\n",
    "#example:\n",
    "\n",
    "# 1. Single Inheritance\n",
    "class Animal:\n",
    "    def speak(self):\n",
    "        pass\n",
    "\n",
    "class Dog(Animal):\n",
    "    def speak(self):\n",
    "        return \"Woof!\"\n",
    "\n",
    "class Cat(Animal):\n",
    "    def speak(self):\n",
    "        return \"Meow!\"\n",
    "\n",
    "    \n",
    "# 2. Multiple Inheritance\n",
    "class Parent1:\n",
    "    def method1(self):\n",
    "        pass\n",
    "\n",
    "class Parent2:\n",
    "    def method2(self):\n",
    "        pass\n",
    "\n",
    "class Child(Parent1, Parent2):\n",
    "    def method3(self):\n",
    "        pass\n",
    "\n",
    "# 3.Multilevel Inheritance\n",
    "class Grandparent:\n",
    "    pass\n",
    "\n",
    "class Parent(Grandparent):\n",
    "    pass\n",
    "\n",
    "class Child(Parent):\n",
    "    pass\n",
    "\n",
    "\n",
    "# 4.Hierarchical Inheritance:\n",
    "class Animal:\n",
    "    def speak(self):\n",
    "        pass\n",
    "\n",
    "class Dog(Animal):\n",
    "    def speak(self):\n",
    "        return \"Woof!\"\n",
    "\n",
    "class Cat(Animal):\n",
    "    def speak(self):\n",
    "        return \"Meow!\"\n",
    "    \n",
    "#5.Hybrid Inheritance\n",
    "class Animal:\n",
    "    def speak(self):\n",
    "        pass\n",
    "\n",
    "class Mammal(Animal):\n",
    "    pass\n",
    "\n",
    "class Bird(Animal):\n",
    "    pass\n",
    "\n",
    "class Dog(Mammal):\n",
    "    def speak(self):\n",
    "        return \"Woof!\"\n",
    "\n",
    "class Cat(Mammal):\n",
    "    def speak(self):\n",
    "        return \"Meow!\"\n",
    "\n",
    "class Parrot(Bird):\n",
    "    def speak(self):\n",
    "        return \"Squawk!\"\n",
    "\n",
    "dog = Dog()\n",
    "cat = Cat()\n",
    "parrot = Parrot()\n",
    "\n",
    "\n",
    "print(dog.speak())    \n",
    "print(cat.speak())    \n",
    "print(parrot.speak()) \n",
    "\n"
   ]
  },
  {
   "cell_type": "code",
   "execution_count": null,
   "id": "0f131efd-b157-41f6-9331-48a860ab02b6",
   "metadata": {},
   "outputs": [],
   "source": []
  }
 ],
 "metadata": {
  "kernelspec": {
   "display_name": "Python 3 (ipykernel)",
   "language": "python",
   "name": "python3"
  },
  "language_info": {
   "codemirror_mode": {
    "name": "ipython",
    "version": 3
   },
   "file_extension": ".py",
   "mimetype": "text/x-python",
   "name": "python",
   "nbconvert_exporter": "python",
   "pygments_lexer": "ipython3",
   "version": "3.10.8"
  }
 },
 "nbformat": 4,
 "nbformat_minor": 5
}
