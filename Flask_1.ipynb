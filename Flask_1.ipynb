{
 "cells": [
  {
   "cell_type": "code",
   "execution_count": 4,
   "id": "ba55f4f3-2cc7-43f8-9e78-9b95c640aa77",
   "metadata": {},
   "outputs": [
    {
     "data": {
      "text/plain": [
       "'Q1:\\n\\n\\nQ1. What is Flask Framework? What are the advantages of Flask Framework?\\n\\nFlask is a micro web framework for Python. It is designed to be lightweight and simple, making it easy for developers to build web applications \\nquickly and efficiently. Some advantages of Flask include:\\n\\nSimplicity: Flask has a simple and easy-to-understand API, which makes it a great choice for beginners and developers who want to build web\\napplications with minimal boilerplate code.\\n\\nFlexibility: Flask does not impose a specific way of structuring your application. You have the flexibility to choose how you organize your \\ncode and components.\\n\\nExtensibility: Flask can be extended with various libraries and extensions to add functionality as needed. This allows you to keep your \\napplication lightweight while adding features when required.\\n\\nWidely Adopted: Flask is widely adopted and has a large community, which means there is a wealth of resources, extensions, and support available.'"
      ]
     },
     "execution_count": 4,
     "metadata": {},
     "output_type": "execute_result"
    }
   ],
   "source": [
    "'''Q1:\n",
    "\n",
    "\n",
    "Q1. What is Flask Framework? What are the advantages of Flask Framework?\n",
    "\n",
    "Flask is a micro web framework for Python. It is designed to be lightweight and simple, making it easy for developers to build web applications \n",
    "quickly and efficiently. Some advantages of Flask include:\n",
    "\n",
    "Simplicity: Flask has a simple and easy-to-understand API, which makes it a great choice for beginners and developers who want to build web\n",
    "applications with minimal boilerplate code.\n",
    "\n",
    "Flexibility: Flask does not impose a specific way of structuring your application. You have the flexibility to choose how you organize your \n",
    "code and components.\n",
    "\n",
    "Extensibility: Flask can be extended with various libraries and extensions to add functionality as needed. This allows you to keep your \n",
    "application lightweight while adding features when required.\n",
    "\n",
    "Widely Adopted: Flask is widely adopted and has a large community, which means there is a wealth of resources, extensions, and support available.'''"
   ]
  },
  {
   "cell_type": "markdown",
   "id": "fea57ab2-84e4-4172-aa3e-a0f01f31a524",
   "metadata": {},
   "source": [
    "'''Q2: Create a simple Flask application to display 'Hello World!!'. Attach the screenshot of the output in Jupyter Notebook.\n",
    "\n",
    "'''\n",
    "\n",
    "![](Q2.jpg)"
   ]
  },
  {
   "cell_type": "code",
   "execution_count": null,
   "id": "2b91faa3-dc64-4f1e-bb64-687f69df26e4",
   "metadata": {},
   "outputs": [],
   "source": [
    "'''Q3:What is App routing in Flask? Why do we use app routes?\n",
    "\n",
    "In Flask, app routing refers to the process of mapping URLs (Uniform Resource Locators) to specific Python functions or views.\n",
    "Flask uses decorators like @app.route() to define these mappings. When a user visits a particular URL, Flask invokes the corresponding \n",
    "view function to generate the response.\n",
    "\n",
    "We use app routes in Flask to define the behavior of our web application. By specifying routes, we determine what should happen when a\n",
    "user accesses different URLs. This allows us to create different views, render templates, or perform actions based on the URL the user\n",
    "visits. App routing is fundamental \n",
    "to building web applications with Flask because it defines the structure and functionality of the application.'''"
   ]
  },
  {
   "cell_type": "markdown",
   "id": "6bac1c9b-5fe5-4937-9d1d-a48aca16cf16",
   "metadata": {},
   "source": [
    "'''Q4:'''\n",
    "![](Q4_1.jpg)\n",
    "![](Q4_2.jpg)\n"
   ]
  },
  {
   "cell_type": "code",
   "execution_count": null,
   "id": "ba5c09b6-8316-4b09-8983-3d17f08c2d57",
   "metadata": {},
   "outputs": [],
   "source": [
    "'''Q5:\n",
    "\n",
    "In Flask, the url_for() function is used for URL building. It generates URLs for Flask views based on their function names.\n",
    "This is particularly useful because it abstracts the URLs, making your code more maintainable and adaptable to changes in your URL structure\n",
    "\n",
    "from flask import Flask, url_for\n",
    "\n",
    "app = Flask(__name__)\n",
    "\n",
    "@app.route('/')\n",
    "def home():\n",
    "    return 'This is the home page. Go to <a href=\"' + url_for('about') + '\">About</a>.'\n",
    "\n",
    "@app.route('/about')\n",
    "def about():\n",
    "    return 'This is the about page.'\n",
    "\n",
    "if __name__ == '__main__':\n",
    "    app.run()\n",
    "\n",
    "'''"
   ]
  }
 ],
 "metadata": {
  "kernelspec": {
   "display_name": "Python 3 (ipykernel)",
   "language": "python",
   "name": "python3"
  },
  "language_info": {
   "codemirror_mode": {
    "name": "ipython",
    "version": 3
   },
   "file_extension": ".py",
   "mimetype": "text/x-python",
   "name": "python",
   "nbconvert_exporter": "python",
   "pygments_lexer": "ipython3",
   "version": "3.10.8"
  }
 },
 "nbformat": 4,
 "nbformat_minor": 5
}
