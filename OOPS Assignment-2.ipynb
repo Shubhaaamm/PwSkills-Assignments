{
 "cells": [
  {
   "cell_type": "code",
   "execution_count": 1,
   "id": "dad26d54-41ee-4f26-aa6d-3632be411c1d",
   "metadata": {},
   "outputs": [
    {
     "name": "stdout",
     "output_type": "stream",
     "text": [
      "Circle Area: 78.53975\n"
     ]
    }
   ],
   "source": [
    "'''Q1. What is Abstraction in OOPs? Explain with an example.\n",
    "\n",
    "Abstraction in OOP refers to the process of hiding complex implementation details and showing only\n",
    "the necessary features of an object to the outside world. It allows you to focus on what an object\n",
    "does rather than how it does it'''\n",
    "\n",
    "from abc import ABC, abstractmethod\n",
    "\n",
    "class Shape(ABC):\n",
    "    @abstractmethod\n",
    "    def area(self):\n",
    "        pass\n",
    "\n",
    "class Circle(Shape):\n",
    "    def __init__(self, radius):\n",
    "        self.radius = radius\n",
    "    \n",
    "    def area(self):\n",
    "        return 3.14159 * self.radius * self.radius\n",
    "\n",
    "circle = Circle(5)\n",
    "print(\"Circle Area:\", circle.area())  # Output: Circle Area: 78.53975\n"
   ]
  },
  {
   "cell_type": "code",
   "execution_count": null,
   "id": "0260f9bc-be12-45bc-943a-ab368e2f7e24",
   "metadata": {},
   "outputs": [],
   "source": [
    "'''Q2. Differentiate between Abstraction and Encapsulation. Explain with an example.\n",
    "\n",
    "Abstraction focuses on showing only the necessary features while hiding the implementation\n",
    "details. It's about what an object does.\n",
    "\n",
    "Encapsulation involves bundling the data (attributes) and methods (functions) that operate\n",
    "on the data into a single unit, known as a class. It's about how an object operates.'''\n",
    "\n"
   ]
  },
  {
   "cell_type": "markdown",
   "id": "888f460d-d86a-434d-ab38-330f9d9399c1",
   "metadata": {},
   "source": [
    "Q3. What is the abc module in Python? Why is it used?\n",
    "\n",
    "The abc module in Python stands for \"Abstract Base Classes.\" It provides mechanisms for defining abstract \n",
    "base classes and abstract methods. Abstract classes cannot be instantiated; they are meant to be subclassed \n",
    "by concrete classes that implement the abstract methods defined in the base class. It enforces certain method\n",
    "implementations in the derived classes.\n"
   ]
  },
  {
   "cell_type": "markdown",
   "id": "ddbc8bf9-fefe-472f-89c7-ab351b64a32d",
   "metadata": {},
   "source": [
    "Q4. How can we achieve data abstraction?\n",
    "\n",
    "Data abstraction can be achieved by using abstract classes and abstract methods. Abstract methods are declared\n",
    "in an abstract class but do not have an implementation in the base class. Subclasses of the abstract class are\n",
    "required to provide implementations for these abstract methods."
   ]
  },
  {
   "cell_type": "markdown",
   "id": "cfd59b68-1610-46b4-9e34-18ceda4326c5",
   "metadata": {},
   "source": [
    "Q5. Can we create an instance of an abstract class? Explain your answer.\n",
    "\n",
    "No, we cannot create an instance of an abstract class. Abstract classes are meant to be subclassed, and they\n",
    "usually contain abstract methods that need to be implemented by their concrete subclasses. An abstract class\n",
    "serves as a blueprint for creating concrete classes, but it cannot be instantiated on its own. Instances can\n",
    "only be created from concrete subclasses that provide implementations for the abstract methods."
   ]
  }
 ],
 "metadata": {
  "kernelspec": {
   "display_name": "Python 3 (ipykernel)",
   "language": "python",
   "name": "python3"
  },
  "language_info": {
   "codemirror_mode": {
    "name": "ipython",
    "version": 3
   },
   "file_extension": ".py",
   "mimetype": "text/x-python",
   "name": "python",
   "nbconvert_exporter": "python",
   "pygments_lexer": "ipython3",
   "version": "3.10.8"
  }
 },
 "nbformat": 4,
 "nbformat_minor": 5
}
