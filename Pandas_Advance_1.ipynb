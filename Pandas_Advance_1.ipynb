{
 "cells": [
  {
   "cell_type": "code",
   "execution_count": 1,
   "id": "6afa57a2-692d-4f78-aeaf-4ceca763d03a",
   "metadata": {},
   "outputs": [
    {
     "data": {
      "text/plain": [
       "'Q1:\\n\\nFive functions which can be used with Pandas:\\n\\n1. pd.read_csv() \\n2. pd.head()\\n3. pd.info()\\n4. pd.descibe()\\n5. pd.category()'"
      ]
     },
     "execution_count": 1,
     "metadata": {},
     "output_type": "execute_result"
    }
   ],
   "source": [
    "'''Q1:\n",
    "\n",
    "Five functions which can be used with Pandas:\n",
    "\n",
    "1. pd.read_csv() \n",
    "2. pd.head()\n",
    "3. pd.info()\n",
    "4. pd.descibe()\n",
    "5. pd.category()'''"
   ]
  },
  {
   "cell_type": "code",
   "execution_count": 2,
   "id": "77eec406-2a48-4079-a5e5-e0a759abb1ab",
   "metadata": {},
   "outputs": [
    {
     "data": {
      "text/plain": [
       "'Q2:\\n\\nimport pandas as pd\\n\\ndef reindex_with_increment(df):\\n    df.index = range(1, len(df) * 2, 2)\\n    return df\\n'"
      ]
     },
     "execution_count": 2,
     "metadata": {},
     "output_type": "execute_result"
    }
   ],
   "source": [
    "'''Q2:\n",
    "\n",
    "import pandas as pd\n",
    "\n",
    "def reindex_with_increment(df):\n",
    "    df.index = range(1, len(df) * 2, 2)\n",
    "    return df\n",
    "'''"
   ]
  },
  {
   "cell_type": "code",
   "execution_count": 3,
   "id": "aea35a7e-90ca-400a-85ff-7773b271d463",
   "metadata": {},
   "outputs": [
    {
     "data": {
      "text/plain": [
       "'Q3:\\n\\nimport pandas as pd\\n\\ndef sum_first_three_values(df):\\n    total = df[\\'Values\\'].head(3).sum()\\n    print(\"Sum of the first three values:\", total)\\n'"
      ]
     },
     "execution_count": 3,
     "metadata": {},
     "output_type": "execute_result"
    }
   ],
   "source": [
    "'''Q3:\n",
    "\n",
    "import pandas as pd\n",
    "\n",
    "def sum_first_three_values(df):\n",
    "    total = df['Values'].head(3).sum()\n",
    "    print(\"Sum of the first three values:\", total)\n",
    "'''"
   ]
  },
  {
   "cell_type": "code",
   "execution_count": 4,
   "id": "cc11931b-02a0-45b1-a4a5-fefe3fb31830",
   "metadata": {},
   "outputs": [
    {
     "data": {
      "text/plain": [
       "\"Q4:\\n\\nimport pandas as pd\\n\\ndef count_words(df):\\n    df['Word_Count'] = df['Text'].apply(lambda x: len(str(x).split()))\\n    return df\\n    \""
      ]
     },
     "execution_count": 4,
     "metadata": {},
     "output_type": "execute_result"
    }
   ],
   "source": [
    "'''Q4:\n",
    "\n",
    "import pandas as pd\n",
    "\n",
    "def count_words(df):\n",
    "    df['Word_Count'] = df['Text'].apply(lambda x: len(str(x).split()))\n",
    "    return df\n",
    "    '''"
   ]
  },
  {
   "cell_type": "code",
   "execution_count": 6,
   "id": "78383df2-36fb-4c2b-a937-d55410f9da81",
   "metadata": {},
   "outputs": [
    {
     "name": "stdout",
     "output_type": "stream",
     "text": [
      "6\n",
      "(3, 2)\n"
     ]
    }
   ],
   "source": [
    "'''Q5: difference between .size and .shape:'''\n",
    "import pandas as pd\n",
    "\n",
    "data = {'A': [1, 2, 3], 'B': [4, 5, 6]}\n",
    "df = pd.DataFrame(data)\n",
    "\n",
    "print(df.size)     # Output: 6 (total number of elements)\n",
    "print(df.shape)    # Output: (3, 2) (3 rows and 2 columns)\n"
   ]
  },
  {
   "cell_type": "code",
   "execution_count": 7,
   "id": "8b563b23-9213-4214-872f-c09c91c24201",
   "metadata": {},
   "outputs": [
    {
     "data": {
      "text/plain": [
       "\"Q6:\\n\\nimport pandas as pd\\n\\ndf = pd.read_excel('data.xlsx')\\n\\n\""
      ]
     },
     "execution_count": 7,
     "metadata": {},
     "output_type": "execute_result"
    }
   ],
   "source": [
    "'''Q6:\n",
    "\n",
    "import pandas as pd\n",
    "\n",
    "df = pd.read_excel('data.xlsx')\n",
    "\n",
    "'''"
   ]
  },
  {
   "cell_type": "code",
   "execution_count": 2,
   "id": "ae52bbfa-0406-4529-bce8-54bb2d73ad23",
   "metadata": {},
   "outputs": [],
   "source": [
    "'''Q7:\n",
    "'''\n",
    "\n",
    "import pandas as pd\n",
    "\n",
    "def extract_username(df):\n",
    "    df['Username'] = df['Email'].str.split('@').str[0]\n",
    "    return df\n",
    "\n",
    "\n",
    "\n"
   ]
  },
  {
   "cell_type": "code",
   "execution_count": 9,
   "id": "30d9cab8-5ee8-4375-9455-603ed2ba128b",
   "metadata": {},
   "outputs": [
    {
     "name": "stdout",
     "output_type": "stream",
     "text": [
      "   A  B  C\n",
      "1  8  2  7\n",
      "4  9  1  2\n"
     ]
    }
   ],
   "source": [
    "'''Q8:\n",
    "\n",
    "'''\n",
    "import pandas as pd\n",
    "\n",
    "def select_rows(df, row_indices):\n",
    "    selected_df = df.loc[row_indices]\n",
    "    return selected_df\n",
    "\n",
    "# Example usage:\n",
    "data = {'A': [3, 8, 6, 2, 9], 'B': [5, 2, 9, 3, 1], 'C': [1, 7, 4, 5, 2]}\n",
    "df = pd.DataFrame(data)\n",
    "\n",
    "# Select rows with indices 1 and 4\n",
    "selected_indices = [1, 4]\n",
    "selected_df = select_rows(df, selected_indices)\n",
    "print(selected_df)\n",
    "\n"
   ]
  },
  {
   "cell_type": "code",
   "execution_count": 15,
   "id": "5a461919-5cd3-4b30-affb-d47be5086fb1",
   "metadata": {},
   "outputs": [
    {
     "data": {
      "text/plain": [
       "\"Q9:\\n\\nimport pandas as pd\\n\\ndef calculate_statistics(df):\\n    mean = df['Values'].mean()\\n    median = df['Values'].median()\\n    std_dev = df['Values'].std()\\n    return mean, median, std_dev\\n\""
      ]
     },
     "execution_count": 15,
     "metadata": {},
     "output_type": "execute_result"
    }
   ],
   "source": [
    "'''Q9:\n",
    "\n",
    "import pandas as pd\n",
    "\n",
    "def calculate_statistics(df):\n",
    "    mean = df['Values'].mean()\n",
    "    median = df['Values'].median()\n",
    "    std_dev = df['Values'].std()\n",
    "    return mean, median, std_dev\n",
    "'''"
   ]
  },
  {
   "cell_type": "code",
   "execution_count": 16,
   "id": "9599795d-e844-49a4-8bfa-bc456db053c2",
   "metadata": {},
   "outputs": [
    {
     "data": {
      "text/plain": [
       "\"Q10:\\n\\n\\nimport pandas as pd\\n\\ndef calculate_moving_average(df):\\n    df['MovingAverage'] = df['Sales'].rolling(window=7, min_periods=1).mean()\\n    return df\\n\""
      ]
     },
     "execution_count": 16,
     "metadata": {},
     "output_type": "execute_result"
    }
   ],
   "source": [
    "'''Q10:\n",
    "\n",
    "\n",
    "import pandas as pd\n",
    "\n",
    "def calculate_moving_average(df):\n",
    "    df['MovingAverage'] = df['Sales'].rolling(window=7, min_periods=1).mean()\n",
    "    return df\n",
    "'''"
   ]
  },
  {
   "cell_type": "code",
   "execution_count": 18,
   "id": "d913c14a-391c-42b7-804a-df0de90b828d",
   "metadata": {},
   "outputs": [
    {
     "data": {
      "text/plain": [
       "\"Q11:\\n\\n\\n\\nimport pandas as pd\\n\\ndef add_weekday_column(df):\\n    # Convert the 'Date' column to datetime if it's not already\\n    df['Date'] = pd.to_datetime(df['Date'])\\n    \\n    # Extract and add the 'Weekday' column\\n    df['Weekday'] = df['Date'].dt.strftime('%A')  # %A gives the full weekday name\\n    \\n    return df\\n\""
      ]
     },
     "execution_count": 18,
     "metadata": {},
     "output_type": "execute_result"
    }
   ],
   "source": [
    "'''Q11:\n",
    "\n",
    "\n",
    "\n",
    "import pandas as pd\n",
    "\n",
    "def add_weekday_column(df):\n",
    "    # Convert the 'Date' column to datetime if it's not already\n",
    "    df['Date'] = pd.to_datetime(df['Date'])\n",
    "    \n",
    "    # Extract and add the 'Weekday' column\n",
    "    df['Weekday'] = df['Date'].dt.strftime('%A')  # %A gives the full weekday name\n",
    "    \n",
    "    return df\n",
    "'''"
   ]
  },
  {
   "cell_type": "code",
   "execution_count": 21,
   "id": "9b0aba61-834c-4bc9-a8fb-42db13ec2811",
   "metadata": {},
   "outputs": [
    {
     "data": {
      "text/plain": [
       "\"Q12:\\n\\n\\nimport pandas as pd\\n\\ndef select_rows_between_dates(df):\\n    # Convert the 'Date' column to datetime if it's not already\\n    df['Date'] = pd.to_datetime(df['Date'])\\n    \\n    # Define the date range\\n    start_date = pd.Timestamp('2023-01-01')\\n    end_date = pd.Timestamp('2023-01-31')\\n    \\n    # Use boolean indexing to select rows within the date range\\n    selected_rows = df[(df['Date'] >= start_date) & (df['Date'] <= end_date)]\\n    \\n    return selected_rows\\n\""
      ]
     },
     "execution_count": 21,
     "metadata": {},
     "output_type": "execute_result"
    }
   ],
   "source": [
    "'''Q12:\n",
    "\n",
    "\n",
    "import pandas as pd\n",
    "\n",
    "def select_rows_between_dates(df):\n",
    "    # Convert the 'Date' column to datetime if it's not already\n",
    "    df['Date'] = pd.to_datetime(df['Date'])\n",
    "    \n",
    "    # Define the date range\n",
    "    start_date = pd.Timestamp('2023-01-01')\n",
    "    end_date = pd.Timestamp('2023-01-31')\n",
    "    \n",
    "    # Use boolean indexing to select rows within the date range\n",
    "    selected_rows = df[(df['Date'] >= start_date) & (df['Date'] <= end_date)]\n",
    "    \n",
    "    return selected_rows\n",
    "'''"
   ]
  },
  {
   "cell_type": "code",
   "execution_count": null,
   "id": "d93730a1-a644-44db-9793-8c395f476ce6",
   "metadata": {},
   "outputs": [],
   "source": [
    "'''Q13:\n",
    "\n",
    "'''"
   ]
  }
 ],
 "metadata": {
  "kernelspec": {
   "display_name": "Python 3 (ipykernel)",
   "language": "python",
   "name": "python3"
  },
  "language_info": {
   "codemirror_mode": {
    "name": "ipython",
    "version": 3
   },
   "file_extension": ".py",
   "mimetype": "text/x-python",
   "name": "python",
   "nbconvert_exporter": "python",
   "pygments_lexer": "ipython3",
   "version": "3.10.8"
  }
 },
 "nbformat": 4,
 "nbformat_minor": 5
}
