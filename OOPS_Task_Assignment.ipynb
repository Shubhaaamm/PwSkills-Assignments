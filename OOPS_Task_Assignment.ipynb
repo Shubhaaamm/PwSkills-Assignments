{
 "cells": [
  {
   "cell_type": "code",
   "execution_count": 2,
   "id": "b89267d9-6b7f-457e-9e36-bd9d2485b82c",
   "metadata": {},
   "outputs": [],
   "source": [
    "#question 1\n",
    "\n",
    "class Vehicle:\n",
    "    def __init__(self, name_of_vehicle, max_speed, average_of_vehicle):\n",
    "        self.name_of_vehicle = name_of_vehicle\n",
    "        self.max_speed = max_speed\n",
    "        self.average_of_vehicle = average_of_vehicle\n"
   ]
  },
  {
   "cell_type": "code",
   "execution_count": 3,
   "id": "01ce53a2-28a3-4b01-af5a-263a3c1e597b",
   "metadata": {},
   "outputs": [
    {
     "name": "stdout",
     "output_type": "stream",
     "text": [
      "The Sedan has a seating capacity of 5 people.\n"
     ]
    }
   ],
   "source": [
    "#Question 2\n",
    "\n",
    "class Vehicle:\n",
    "    def __init__(self, name_of_vehicle, max_speed, average_of_vehicle):\n",
    "        self.name_of_vehicle = name_of_vehicle\n",
    "        self.max_speed = max_speed\n",
    "        self.average_of_vehicle = average_of_vehicle\n",
    "\n",
    "class Car(Vehicle):\n",
    "    def seating_capacity(self, capacity):\n",
    "        return f\"The {self.name_of_vehicle} has a seating capacity of {capacity} people.\"\n",
    "\n",
    "# Creating an instance of the Car class\n",
    "car_obj = Car(\"Sedan\", 200, 30)\n",
    "capacity = 5\n",
    "print(car_obj.seating_capacity(capacity))\n"
   ]
  },
  {
   "cell_type": "code",
   "execution_count": 11,
   "id": "96ab494b-d2d1-4848-9c4e-e9bd1601c673",
   "metadata": {},
   "outputs": [
    {
     "name": "stdout",
     "output_type": "stream",
     "text": [
      "Buddy is barking like a dog\n",
      "Polly is mimicking human speech\n"
     ]
    }
   ],
   "source": [
    "#Question 3\n",
    "\n",
    "\"\"\"\n",
    "Multiple inheritance is a feature in object-oriented programming where a class can inherit attributes and methods\n",
    "from more than one parent class. Here's an example code demonstrating multiple inheritance:\n",
    "\"\"\"\n",
    "\n",
    "class Animal:\n",
    "    def __init__(self, name):\n",
    "        self.name = name\n",
    "\n",
    "    def speak(self):\n",
    "        pass\n",
    "\n",
    "class Mammal(Animal):\n",
    "    def speak(self):\n",
    "        return f\"{self.name} is making a mammal sound\"\n",
    "\n",
    "class Bird(Animal):\n",
    "    def speak(self):\n",
    "        return f\"{self.name} is chirping like a bird\"\n",
    "\n",
    "class Dog(Mammal, Animal):\n",
    "    def speak(self):\n",
    "        return f\"{self.name} is barking like a dog\"\n",
    "\n",
    "class Parrot(Bird, Animal):\n",
    "    def speak(self):\n",
    "        return f\"{self.name} is mimicking human speech\"\n",
    "\n",
    "# Creating instances of the classes\n",
    "dog = Dog(\"Buddy\")\n",
    "parrot = Parrot(\"Polly\")\n",
    "\n",
    "# Demonstrating multiple inheritance\n",
    "print(dog.speak())    # Output: Buddy is barking like a dog\n",
    "print(parrot.speak()) # Output: Polly is mimicking human speech\n"
   ]
  },
  {
   "cell_type": "code",
   "execution_count": 13,
   "id": "a44135f0-a683-445b-bb20-ac2442efccec",
   "metadata": {},
   "outputs": [
    {
     "name": "stdout",
     "output_type": "stream",
     "text": [
      "0\n",
      "10\n"
     ]
    }
   ],
   "source": [
    "# Question 4\n",
    "\n",
    "'''Getter and Setter methods are used to access and modify private attributes of a class.'''\n",
    "\n",
    "class MyClass:\n",
    "    def __init__(self):\n",
    "        self._value = 0  # Private attribute\n",
    "\n",
    "    def get_value(self):\n",
    "        return self._value\n",
    "\n",
    "    def set_value(self, new_value):\n",
    "        if new_value >= 0:\n",
    "            self._value = new_value\n",
    "\n",
    "obj = MyClass()\n",
    "print(obj.get_value())  # Output: 0\n",
    "obj.set_value(10)\n",
    "print(obj.get_value())  # Output: 10\n"
   ]
  },
  {
   "cell_type": "code",
   "execution_count": 12,
   "id": "2980ff0a-4835-430c-b41a-556294f464ba",
   "metadata": {},
   "outputs": [
    {
     "name": "stdout",
     "output_type": "stream",
     "text": [
      "Rectangle area: 35\n",
      "Circle area: 28.274309999999996\n"
     ]
    }
   ],
   "source": [
    "#Question 5\n",
    "\n",
    "'''Method overriding is when a subclass provides a specific implementation for a method that is already defined in its parent class.'''\n",
    "\n",
    "class Shape:\n",
    "    def area(self):\n",
    "        pass\n",
    "\n",
    "class Rectangle(Shape):\n",
    "    def __init__(self, width, height):\n",
    "        self.width = width\n",
    "        self.height = height\n",
    "\n",
    "    def area(self):\n",
    "        return self.width * self.height\n",
    "\n",
    "class Circle(Shape):\n",
    "    def __init__(self, radius):\n",
    "        self.radius = radius\n",
    "\n",
    "    def area(self):\n",
    "        return 3.14159 * self.radius * self.radius\n",
    "\n",
    "# Creating instances of the classes\n",
    "rectangle = Rectangle(5, 7)\n",
    "circle = Circle(3)\n",
    "\n",
    "# Demonstrating method overriding\n",
    "print(\"Rectangle area:\", rectangle.area())  # Output: Rectangle area: 35\n",
    "print(\"Circle area:\", circle.area())        # Output: Circle area: 28.27431\n"
   ]
  },
  {
   "cell_type": "code",
   "execution_count": null,
   "id": "5629e4e6-a8d9-408e-b239-5ab80bcd37dd",
   "metadata": {},
   "outputs": [],
   "source": []
  }
 ],
 "metadata": {
  "kernelspec": {
   "display_name": "Python 3 (ipykernel)",
   "language": "python",
   "name": "python3"
  },
  "language_info": {
   "codemirror_mode": {
    "name": "ipython",
    "version": 3
   },
   "file_extension": ".py",
   "mimetype": "text/x-python",
   "name": "python",
   "nbconvert_exporter": "python",
   "pygments_lexer": "ipython3",
   "version": "3.10.8"
  }
 },
 "nbformat": 4,
 "nbformat_minor": 5
}
