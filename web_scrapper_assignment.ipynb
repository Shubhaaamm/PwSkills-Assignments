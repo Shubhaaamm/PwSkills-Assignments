{
 "cells": [
  {
   "cell_type": "markdown",
   "id": "0d45105c-cc35-4840-9d1b-694f582910a2",
   "metadata": {},
   "source": [
    "Q1. What is Web Scraping? Why is it Used? Give three areas where Web Scraping is used to get data.\n",
    "\n",
    "Web Scraping is a technique used to extract data from websites. It involves fetching web pages and extracting information from the HTML code. Web scraping is used to automate the extraction of data that might be time-consuming or challenging to obtain manually. Here are three areas where web scraping is commonly used:\n",
    "\n",
    "Data Mining and Analysis: Web scraping is often used to collect data for analysis and research purposes. For example, extracting financial data, market trends, or sentiment analysis from various websites.\n",
    "\n",
    "Competitive Intelligence: Companies use web scraping to gather information about competitors, such as product details, pricing, and customer reviews. This helps businesses make informed decisions and stay competitive.\n",
    "\n",
    "Content Aggregation: News aggregators and content websites use web scraping to gather articles and information from various sources, providing users with a centralized location for accessing diverse content.\n"
   ]
  },
  {
   "cell_type": "markdown",
   "id": "54cf8aea-d1a0-4632-ba8f-50f06b6e387e",
   "metadata": {},
   "source": [
    "\"\"\"Q2. What are the different methods used for Web Scraping?\n",
    "\n",
    "There are various methods for web scraping, and the choice of method depends on the complexity of the task. Common methods include:\n",
    "\n",
    "Manual Copy-Pasting: Simple but time-consuming, where data is copied from a website and pasted into a local file.\n",
    "\n",
    "Regular Expressions (Regex): Parsing HTML with regex to extract specific patterns. It's effective for simple tasks but can be fragile for complex HTML structures.\n",
    "\n",
    "HTML Parsing Libraries: Using libraries like Beautiful Soup (Python), Nokogiri (Ruby), or Jsoup (Java) to parse HTML and extract desired information.\n",
    "\n",
    "Headless Browsers: Utilizing browser automation tools like Selenium to load web pages in a headless browser and interact with the DOM to extract information.\n",
    "\n",
    "APIs: Some websites provide APIs (Application Programming Interfaces) to access their data in a structured way, avoiding the need for scraping.\"\"\""
   ]
  },
  {
   "cell_type": "markdown",
   "id": "94780d9f-79f5-4b3f-8b83-bf47cee2c759",
   "metadata": {},
   "source": [
    "Q3. What is Beautiful Soup? Why is it used?\n",
    "\n",
    "Beautiful Soup is a Python library for pulling data out of HTML and XML files. It provides Pythonic idioms for iterating, searching, and modifying the parse tree. Beautiful Soup is widely used for web scraping due to its simplicity and flexibility. It helps navigate and search the parse tree, making it easy to extract specific data from HTML documents."
   ]
  },
  {
   "cell_type": "markdown",
   "id": "2b6d463c-bd58-4962-98c1-86e5eb790e6c",
   "metadata": {},
   "source": [
    "Q4. Why is Flask used in this Web Scraping project?\n",
    "\n",
    "Flask is a lightweight web framework for Python that is often used for building web applications. In a web scraping project, Flask might be used to create a simple web interface to display the scraped data. Flask allows developers to create web applications quickly and easily, making it a suitable choice for presenting the scraped data in a user-friendly manner."
   ]
  },
  {
   "cell_type": "markdown",
   "id": "d8bb1761-b103-418d-b08c-b6e4a6697418",
   "metadata": {},
   "source": [
    "Q5. Write the names of AWS services used in this project. Also, explain the use of each service.\n",
    "\n",
    "The question implies a hypothetical scenario where AWS services are used in a web scraping project. Commonly used AWS services might include:\n",
    "\n",
    "Amazon EC2 (Elastic Compute Cloud): EC2 provides scalable compute capacity in the cloud. In a web scraping project, EC2 instances could be used for hosting the web scraping scripts or any associated web applications.\n",
    "\n",
    "Amazon S3 (Simple Storage Service): S3 is a scalable object storage service. It could be used to store the scraped data files or any other static assets associated with the project.\n",
    "\n",
    "Amazon RDS (Relational Database Service): RDS is a managed relational database service. If the project involves storing structured data, RDS could be used to host a relational database for storing and querying the data.\n",
    "\n",
    "AWS Lambda: Lambda is a serverless compute service. It could be used to run small, event-triggered functions, which might be useful for certain aspects of a web scraping workflow.\n",
    "\n",
    "Amazon API Gateway: API Gateway can be used to create and publish RESTful APIs. In a web scraping project, it might be used to expose specific functionalities or data via APIs.\n",
    "\n",
    "AWS CloudWatch: CloudWatch provides monitoring and logging services. It could be used to monitor the performance of the web scraping scripts or other components in the AWS infrastructure."
   ]
  },
  {
   "cell_type": "code",
   "execution_count": null,
   "id": "3b0812a8-aa7f-4eb7-bf10-c4b844f5e9f2",
   "metadata": {},
   "outputs": [],
   "source": []
  }
 ],
 "metadata": {
  "kernelspec": {
   "display_name": "Python 3 (ipykernel)",
   "language": "python",
   "name": "python3"
  },
  "language_info": {
   "codemirror_mode": {
    "name": "ipython",
    "version": 3
   },
   "file_extension": ".py",
   "mimetype": "text/x-python",
   "name": "python",
   "nbconvert_exporter": "python",
   "pygments_lexer": "ipython3",
   "version": "3.10.8"
  }
 },
 "nbformat": 4,
 "nbformat_minor": 5
}
