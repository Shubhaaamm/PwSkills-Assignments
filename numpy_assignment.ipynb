{
 "cells": [
  {
   "cell_type": "code",
   "execution_count": 33,
   "id": "c72ba5e4-8da1-4511-a723-585312e99663",
   "metadata": {},
   "outputs": [],
   "source": [
    "import numpy as np\n",
    "list_ = [ '1','2', '3', '4', '5' ]\n",
    "array_list = np.array(object = list_)"
   ]
  },
  {
   "cell_type": "markdown",
   "id": "ab815ab6-c3f5-4fa2-a44f-726db3cf965a",
   "metadata": {},
   "source": [
    "**Q1. Is there any difference in the data type of variables list_ and array_list? If there is then write a code\n",
    "to print the data types of both the variables.**"
   ]
  },
  {
   "cell_type": "code",
   "execution_count": 34,
   "id": "604264d5-effd-4bd2-add5-a2e0b4fdaa84",
   "metadata": {},
   "outputs": [
    {
     "name": "stdout",
     "output_type": "stream",
     "text": [
      "<class 'list'>\n",
      "<class 'numpy.ndarray'>\n"
     ]
    }
   ],
   "source": [
    "print(type(list_)) \n",
    "print(type(array_list))\n"
   ]
  },
  {
   "cell_type": "markdown",
   "id": "afdf8862-ffa6-4e22-9a36-acba3a48c338",
   "metadata": {},
   "source": [
    "**Answer1: Yes, there differences of datatypes between lsit_ and array_list. list_ is a object of python while array_list is the numpy array object** "
   ]
  },
  {
   "cell_type": "markdown",
   "id": "772f8596-ca7d-447b-bee0-242e343f93e3",
   "metadata": {},
   "source": [
    "**Q2. Write a code to print the data type of each and every element of both the variables list_ and\n",
    "array_list.**"
   ]
  },
  {
   "cell_type": "code",
   "execution_count": 35,
   "id": "026c503c-dfbc-483d-b58d-a4fb98d2c19e",
   "metadata": {},
   "outputs": [
    {
     "name": "stdout",
     "output_type": "stream",
     "text": [
      "<class 'numpy.str_'>\n",
      "<class 'numpy.ndarray'>\n",
      "<class 'numpy.str_'>\n",
      "<class 'numpy.ndarray'>\n",
      "<class 'numpy.str_'>\n",
      "<class 'numpy.ndarray'>\n",
      "<class 'numpy.str_'>\n",
      "<class 'numpy.ndarray'>\n",
      "<class 'numpy.str_'>\n",
      "<class 'numpy.ndarray'>\n"
     ]
    }
   ],
   "source": [
    "# Answer 2:\n",
    "# printing datatypes of all the elements in list_and array_list\n",
    "\n",
    "for i in list_ and array_list:\n",
    "    print(type(i))\n",
    "    print(type(array_list))"
   ]
  },
  {
   "cell_type": "markdown",
   "id": "3a2606b4-9938-4389-ae4f-a5d38d259552",
   "metadata": {},
   "source": [
    "**Q3. Considering the following changes in the variable, array_list:\n",
    "array_list = np.array(object = list_, dtype = int)**"
   ]
  },
  {
   "cell_type": "code",
   "execution_count": 36,
   "id": "51d2af8f-e2c4-45ed-a124-75ab78a8dbce",
   "metadata": {},
   "outputs": [
    {
     "name": "stdout",
     "output_type": "stream",
     "text": [
      "<class 'str'>\n",
      "<class 'str'>\n",
      "<class 'str'>\n",
      "<class 'str'>\n",
      "<class 'str'>\n",
      "<class 'numpy.int64'>\n",
      "<class 'numpy.int64'>\n",
      "<class 'numpy.int64'>\n",
      "<class 'numpy.int64'>\n",
      "<class 'numpy.int64'>\n"
     ]
    }
   ],
   "source": [
    "#answer:\n",
    "array_list=np.array(object=list_,dtype=int)\n",
    "for element in list_:\n",
    "    print(type(element))\n",
    "for element in array_list:\n",
    "    print(type(element))"
   ]
  },
  {
   "cell_type": "markdown",
   "id": "547bc10e-52ff-4ff7-b372-c76f27365207",
   "metadata": {},
   "source": [
    "**Consider the below code to answer further questions:\n",
    "import numpy as np\n",
    "num_list = [ [ 1 , 2 , 3 ] , [ 4 , 5 , 6 ] ]\n",
    "num_array = np.array(object = num_list)\n",
    "Q4. Write a code to find the following characteristics of variable, num_array:\n",
    "(i) shape\n",
    "(ii) size**"
   ]
  },
  {
   "cell_type": "code",
   "execution_count": 38,
   "id": "8bcd712c-64cd-432a-846c-1324abfa9c7b",
   "metadata": {},
   "outputs": [],
   "source": [
    "num_list = [ [ 1 , 2 , 3 ] , [ 4 , 5 , 6 ] ]\n",
    "num_array = np.array(object = num_list)"
   ]
  },
  {
   "cell_type": "code",
   "execution_count": 39,
   "id": "fc7c0677-600e-4d9c-8836-e7b8ec67c349",
   "metadata": {},
   "outputs": [
    {
     "data": {
      "text/plain": [
       "(2, 3)"
      ]
     },
     "execution_count": 39,
     "metadata": {},
     "output_type": "execute_result"
    }
   ],
   "source": [
    "num_array.shape"
   ]
  },
  {
   "cell_type": "code",
   "execution_count": 40,
   "id": "e8ad280f-3be1-44e3-a0c3-d23dbd3069ac",
   "metadata": {},
   "outputs": [
    {
     "data": {
      "text/plain": [
       "6"
      ]
     },
     "execution_count": 40,
     "metadata": {},
     "output_type": "execute_result"
    }
   ],
   "source": [
    "num_array.size"
   ]
  },
  {
   "cell_type": "code",
   "execution_count": 42,
   "id": "e7678608-4840-4d2b-a899-c0ad18dd68d1",
   "metadata": {},
   "outputs": [],
   "source": [
    "matrix=np.zeros((3,3))"
   ]
  },
  {
   "cell_type": "code",
   "execution_count": 43,
   "id": "e4a88818-3749-4dae-b114-edd3823a966a",
   "metadata": {},
   "outputs": [
    {
     "name": "stdout",
     "output_type": "stream",
     "text": [
      "[[0. 0. 0.]\n",
      " [0. 0. 0.]\n",
      " [0. 0. 0.]]\n"
     ]
    }
   ],
   "source": [
    "print(matrix)"
   ]
  },
  {
   "cell_type": "code",
   "execution_count": 47,
   "id": "ab012a43-d291-4386-bd07-e4079b270f77",
   "metadata": {},
   "outputs": [],
   "source": [
    "identity_matrix = np.eye(5)"
   ]
  },
  {
   "cell_type": "code",
   "execution_count": null,
   "id": "0c6914ef-79e2-4a3b-8156-ba900743442b",
   "metadata": {},
   "outputs": [],
   "source": [
    "print"
   ]
  }
 ],
 "metadata": {
  "kernelspec": {
   "display_name": "Python 3 (ipykernel)",
   "language": "python",
   "name": "python3"
  },
  "language_info": {
   "codemirror_mode": {
    "name": "ipython",
    "version": 3
   },
   "file_extension": ".py",
   "mimetype": "text/x-python",
   "name": "python",
   "nbconvert_exporter": "python",
   "pygments_lexer": "ipython3",
   "version": "3.10.8"
  }
 },
 "nbformat": 4,
 "nbformat_minor": 5
}
