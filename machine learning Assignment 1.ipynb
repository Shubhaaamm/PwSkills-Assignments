{
 "cells": [
  {
   "cell_type": "code",
   "execution_count": 1,
   "id": "88dc736e-706d-44c4-83f7-512677b87a10",
   "metadata": {},
   "outputs": [
    {
     "name": "stdout",
     "output_type": "stream",
     "text": [
      "Hiii\n"
     ]
    }
   ],
   "source": [
    "print(\"Hiii\")"
   ]
  },
  {
   "cell_type": "code",
   "execution_count": 19,
   "id": "d8ab190c-db7f-47e4-8a38-9dfebf532bd6",
   "metadata": {},
   "outputs": [
    {
     "data": {
      "text/plain": [
       "' Q1- Explain the following with an example:\\n\\nArtificial Intelligence (AI): Artificial Intelligence refers to the development of computer systems capable of performing \\n                             tasks that typically require human intelligence. For example, AI can be used in chatbots that engage in \\n                             natural language conversations, like the AI-powered customer service chatbots employed by many companies.\\n\\nMachine Learning (ML): Machine Learning is a subset of AI that focuses on training computer systems to learn from data and make predictions\\n                       or decisions. An example of ML is a spam email filter that learns to identify and filter out spam messages based on \\n                       user feedback and data analysis.\\n\\nDeep Learning (DL): Deep Learning is a subfield of ML that uses artificial neural networks, particularly deep neural networks, to solve complex\\n                    tasks. One example of deep learning is image recognition, where deep neural networks can identify objects or people in images.'"
      ]
     },
     "execution_count": 19,
     "metadata": {},
     "output_type": "execute_result"
    }
   ],
   "source": [
    "\n",
    "''' Q1- Explain the following with an example:\n",
    "\n",
    "Artificial Intelligence (AI): Artificial Intelligence refers to the development of computer systems capable of performing \n",
    "                             tasks that typically require human intelligence. For example, AI can be used in chatbots that engage in \n",
    "                             natural language conversations, like the AI-powered customer service chatbots employed by many companies.\n",
    "\n",
    "Machine Learning (ML): Machine Learning is a subset of AI that focuses on training computer systems to learn from data and make predictions\n",
    "                       or decisions. An example of ML is a spam email filter that learns to identify and filter out spam messages based on \n",
    "                       user feedback and data analysis.\n",
    "\n",
    "Deep Learning (DL): Deep Learning is a subfield of ML that uses artificial neural networks, particularly deep neural networks, to solve complex\n",
    "                    tasks. One example of deep learning is image recognition, where deep neural networks can identify objects or people in images.'''"
   ]
  },
  {
   "cell_type": "code",
   "execution_count": 20,
   "id": "e98b01b1-85a4-405d-a3e2-fbed2c9fc8fa",
   "metadata": {},
   "outputs": [
    {
     "data": {
      "text/plain": [
       "\"\\nQ2- What is supervised learning? List some examples of supervised learning:\\n      Supervised learning is a type of machine learning where the algorithm is trained on labeled data, \\n      meaning the input data is paired with the correct output.\\n      \\nSome examples of supervised learning include:\\n\\nEmail classification: Classifying emails as spam or not spam.\\nHandwriting recognition: Converting handwritten text into digital text.\\nPredicting house prices: Using features like square footage and location to predict a house's sale price.\\n\""
      ]
     },
     "execution_count": 20,
     "metadata": {},
     "output_type": "execute_result"
    }
   ],
   "source": [
    "\n",
    "'''\n",
    "Q2- What is supervised learning? List some examples of supervised learning:\n",
    "      Supervised learning is a type of machine learning where the algorithm is trained on labeled data, \n",
    "      meaning the input data is paired with the correct output.\n",
    "      \n",
    "Some examples of supervised learning include:\n",
    "\n",
    "Email classification: Classifying emails as spam or not spam.\n",
    "Handwriting recognition: Converting handwritten text into digital text.\n",
    "Predicting house prices: Using features like square footage and location to predict a house's sale price.\n",
    "'''"
   ]
  },
  {
   "cell_type": "code",
   "execution_count": 21,
   "id": "684e6e8c-b79e-46c9-aa59-b8c9c96dd83f",
   "metadata": {},
   "outputs": [
    {
     "data": {
      "text/plain": [
       "'\\nQ3- What is unsupervised learning? List some examples of unsupervised learning:\\n    Unsupervised learning is a type of machine learning where the algorithm is given input data without labeled outputs,\\n    and it must find patterns or structures within the data. \\n\\nSome examples of unsupervised learning include:\\n\\nClustering customer data: Grouping customers based on purchase behavior.\\nAnomaly detection: Identifying unusual patterns in data, such as credit card fraud detection.\\nTopic modeling: Extracting themes or topics from a collection of documents.\\n'"
      ]
     },
     "execution_count": 21,
     "metadata": {},
     "output_type": "execute_result"
    }
   ],
   "source": [
    "'''\n",
    "Q3- What is unsupervised learning? List some examples of unsupervised learning:\n",
    "    Unsupervised learning is a type of machine learning where the algorithm is given input data without labeled outputs,\n",
    "    and it must find patterns or structures within the data. \n",
    "\n",
    "Some examples of unsupervised learning include:\n",
    "\n",
    "Clustering customer data: Grouping customers based on purchase behavior.\n",
    "Anomaly detection: Identifying unusual patterns in data, such as credit card fraud detection.\n",
    "Topic modeling: Extracting themes or topics from a collection of documents.\n",
    "'''"
   ]
  },
  {
   "cell_type": "code",
   "execution_count": 22,
   "id": "2ddfd8c3-e3e8-4c17-8379-689d93018221",
   "metadata": {},
   "outputs": [
    {
     "data": {
      "text/plain": [
       "'\\nQ4- What is the difference between AI, ML, DL, and DS?\\n\\nArtificial Intelligence (AI) is the broader concept of creating intelligent machines that can mimic human capabilities.\\nMachine Learning (ML) is a subset of AI, focusing on the ability of machines to learn from data.\\nDeep Learning (DL) is a subset of ML, using deep neural networks for complex tasks.\\nData Science (DS) encompasses AI, ML, and DL, along with data analysis, statistics, and domain expertise.\\n'"
      ]
     },
     "execution_count": 22,
     "metadata": {},
     "output_type": "execute_result"
    }
   ],
   "source": [
    "'''\n",
    "Q4- What is the difference between AI, ML, DL, and DS?\n",
    "\n",
    "Artificial Intelligence (AI) is the broader concept of creating intelligent machines that can mimic human capabilities.\n",
    "Machine Learning (ML) is a subset of AI, focusing on the ability of machines to learn from data.\n",
    "Deep Learning (DL) is a subset of ML, using deep neural networks for complex tasks.\n",
    "Data Science (DS) encompasses AI, ML, and DL, along with data analysis, statistics, and domain expertise.\n",
    "'''"
   ]
  },
  {
   "cell_type": "code",
   "execution_count": 23,
   "id": "112cc7a3-8d2c-4b8b-98ae-7377bf2a1310",
   "metadata": {},
   "outputs": [
    {
     "data": {
      "text/plain": [
       "'\\nQ5- What are the main differences between supervised, unsupervised, and semi-supervised learning?\\n\\nSupervised Learning uses labeled data for training. \\nUnsupervised Learning uses unlabeled data for finding patterns. \\nSemi-Supervised Learning is a mix, using a small amount of labeled data along with a larger amount of unlabeled data.\\n\\n'"
      ]
     },
     "execution_count": 23,
     "metadata": {},
     "output_type": "execute_result"
    }
   ],
   "source": [
    "'''\n",
    "Q5- What are the main differences between supervised, unsupervised, and semi-supervised learning?\n",
    "\n",
    "Supervised Learning uses labeled data for training. \n",
    "Unsupervised Learning uses unlabeled data for finding patterns. \n",
    "Semi-Supervised Learning is a mix, using a small amount of labeled data along with a larger amount of unlabeled data.\n",
    "\n",
    "'''"
   ]
  },
  {
   "cell_type": "code",
   "execution_count": 24,
   "id": "319595d8-4623-4480-ae39-9d28a0e478ca",
   "metadata": {},
   "outputs": [
    {
     "data": {
      "text/plain": [
       "\"\\nQ6- What is the training, test, and validation split? Explain the importance of each term:\\n\\nTraining data is used to train the model.\\nTest data is used to evaluate the model's performance.\\nValidation data is used during training to fine-tune the model.\\nThe split ensures the model is trained and tested effectively without overfitting or underfitting.\\n\""
      ]
     },
     "execution_count": 24,
     "metadata": {},
     "output_type": "execute_result"
    }
   ],
   "source": [
    "'''\n",
    "Q6- What is the training, test, and validation split? Explain the importance of each term:\n",
    "\n",
    "Training data is used to train the model.\n",
    "Test data is used to evaluate the model's performance.\n",
    "Validation data is used during training to fine-tune the model.\n",
    "The split ensures the model is trained and tested effectively without overfitting or underfitting.\n",
    "'''"
   ]
  },
  {
   "cell_type": "code",
   "execution_count": 25,
   "id": "c715db8b-51b5-4506-a210-177f2265b261",
   "metadata": {},
   "outputs": [
    {
     "data": {
      "text/plain": [
       "'\\nQ7- How can unsupervised learning be used in anomaly detection?\\nUnsupervised learning can detect anomalies by identifying data points that deviate significantly from the norm.\\nAnomalies are the data points that are distant from the clusters formed by the majority of data.\\n'"
      ]
     },
     "execution_count": 25,
     "metadata": {},
     "output_type": "execute_result"
    }
   ],
   "source": [
    "'''\n",
    "Q7- How can unsupervised learning be used in anomaly detection?\n",
    "Unsupervised learning can detect anomalies by identifying data points that deviate significantly from the norm.\n",
    "Anomalies are the data points that are distant from the clusters formed by the majority of data.\n",
    "'''"
   ]
  },
  {
   "cell_type": "code",
   "execution_count": 26,
   "id": "d73a04f9-034a-46b2-b5d8-a5e7c6940af3",
   "metadata": {},
   "outputs": [
    {
     "data": {
      "text/plain": [
       "'\\nQ8- List down some commonly used supervised learning algorithms and unsupervised learning algorithms:\\n\\nSupervised Learning Algorithms: \\n      Linear Regression, Logistic Regression, Decision Trees, Random Forest, Support Vector Machines (SVM), Neural Networks.\\nUnsupervised Learning Algorithms: \\n      K-Means Clustering, Hierarchical Clustering, Principal Component Analysis (PCA), Autoencoders, Gaussian Mixture Models (GMM).\\n\\n'"
      ]
     },
     "execution_count": 26,
     "metadata": {},
     "output_type": "execute_result"
    }
   ],
   "source": [
    "'''\n",
    "Q8- List down some commonly used supervised learning algorithms and unsupervised learning algorithms:\n",
    "\n",
    "Supervised Learning Algorithms: \n",
    "      Linear Regression, Logistic Regression, Decision Trees, Random Forest, Support Vector Machines (SVM), Neural Networks.\n",
    "Unsupervised Learning Algorithms: \n",
    "      K-Means Clustering, Hierarchical Clustering, Principal Component Analysis (PCA), Autoencoders, Gaussian Mixture Models (GMM).\n",
    "\n",
    "'''"
   ]
  },
  {
   "cell_type": "code",
   "execution_count": null,
   "id": "0129294d-9391-43c2-89ad-78a634502f47",
   "metadata": {},
   "outputs": [],
   "source": []
  },
  {
   "cell_type": "code",
   "execution_count": null,
   "id": "0666930d-4538-4d29-831b-62b567153f79",
   "metadata": {},
   "outputs": [],
   "source": []
  }
 ],
 "metadata": {
  "kernelspec": {
   "display_name": "Python 3 (ipykernel)",
   "language": "python",
   "name": "python3"
  },
  "language_info": {
   "codemirror_mode": {
    "name": "ipython",
    "version": 3
   },
   "file_extension": ".py",
   "mimetype": "text/x-python",
   "name": "python",
   "nbconvert_exporter": "python",
   "pygments_lexer": "ipython3",
   "version": "3.10.8"
  }
 },
 "nbformat": 4,
 "nbformat_minor": 5
}
