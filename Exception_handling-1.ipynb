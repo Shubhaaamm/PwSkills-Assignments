{
 "cells": [
  {
   "cell_type": "raw",
   "id": "9ecc3f5b-2bf1-4048-9219-27783fc210ae",
   "metadata": {},
   "source": [
    "Q-1: What is Exception in python? Write the difference between Exceptions and syntax errors\n",
    "\n",
    "Exception:\n",
    "          In Python, an exception is an event that occurs during the execution of a program that disrupts\n",
    "          the normal flow of instructions. When an exceptional situation arises, Python raises an exception,\n",
    "          which is an object containing information about the error. Exceptions can occur due to a variety\n",
    "          of reasons, such as invalid operations, unexpected input, or resource exhaustion.\n",
    "\n",
    "Difference between exceptions and syntax errors:\n",
    "\n",
    "Exceptions:\n",
    "\n",
    "Definition: Exceptions are errors that occur during the runtime execution of a program, often due to unexpected \n",
    "       conditions or situations.\n",
    "Cause: They are typically caused by logical errors, invalid input, improper usage of functions, division by zero,\n",
    "       accessing undefined variables, etc.\n",
    "Detection: Exceptions are detected during the runtime when the problematic code is executed.\n",
    "Handling: Exceptions can be caught and handled using try-except blocks. This allows the program to gracefully handle\n",
    "         errors and continue executing, or perform specific actions based on the type of exception.\n",
    "Example: Common types of exceptions include ZeroDivisionError, TypeError, ValueError, IndexError, FileNotFoundError, etc.\n",
    "\n",
    "Syntax Errors:\n",
    "\n",
    "Definition: Syntax errors are mistakes in the code structure that violate the rules of the programming language.\n",
    "      They occur during the parsing of the code before the program's execution begins.\n",
    "Cause: They are caused by incorrect syntax, such as missing colons, mismatched parentheses, invalid identifiers, or \n",
    "      improper indentation.\n",
    "Detection: Syntax errors are detected by the Python interpreter during the parsing phase before the program starts\n",
    "     running.\n",
    "Handling: Syntax errors cannot be caught or handled using try-except blocks. They must be fixed by correcting the \n",
    "     code's syntax.\n",
    "Example: Examples of syntax errors include missing parentheses, using an undefined variable, missing indentation, etc."
   ]
  },
  {
   "cell_type": "code",
   "execution_count": 1,
   "id": "0f3058e9-392d-4710-b4c0-90b6af5c66aa",
   "metadata": {},
   "outputs": [
    {
     "name": "stdout",
     "output_type": "stream",
     "text": [
      "An error occurred: list index out of range\n",
      "Program continues executing.\n"
     ]
    }
   ],
   "source": [
    "'''Q-2: What hapeens when an exception is not handled? explain with example..\n",
    "\n",
    "When an exception is not handled in a program:\n",
    "  1. The program will stop running.\n",
    "  2. An error message will be displayed, explaining what went wrong (the type of exception and a description).\n",
    "  3. The program won't continue executing any code after the point where the exception occurred.\n",
    "  \n",
    "  Example---'''\n",
    "\n",
    "def main():\n",
    "    numbers = [1, 2, 3]\n",
    "    \n",
    "    try:\n",
    "        # Accessing an item that doesn't exist\n",
    "        value = numbers[5]\n",
    "        print(\"Value:\", value)  # This line won't be executed\n",
    "    except IndexError as e:\n",
    "        print(\"An error occurred:\", e)\n",
    "\n",
    "    print(\"Program continues executing.\")\n",
    "\n",
    "main()\n"
   ]
  },
  {
   "cell_type": "code",
   "execution_count": 5,
   "id": "5f824f03-32c1-4ed0-bcf0-081245b2dc39",
   "metadata": {},
   "outputs": [
    {
     "name": "stdout",
     "output_type": "stream",
     "text": [
      "Result: Error: Division by zero\n"
     ]
    }
   ],
   "source": [
    "'''Q-3:Which Python statements are used to, catch and handle exceptions? Explain with an example.. \n",
    "\n",
    "Python uses the try and except statements to catch and handle exceptions. The try block contains the code\n",
    "that might raise an exception, and the except block specifies how to handle the exception if it occurs.\n",
    "\n",
    "eaxample--'''\n",
    "import logging\n",
    "def divide_numbers(a, b):\n",
    "    try:\n",
    "        result = a / b  \n",
    "        return result\n",
    "    except ZeroDivisionError:\n",
    "        return \"Error: Division by zero\"\n",
    "\n",
    "num1 = 10\n",
    "num2 = 0\n",
    "\n",
    "result = divide_numbers(num1, num2)\n",
    "print(\"Result:\", result)\n"
   ]
  },
  {
   "cell_type": "code",
   "execution_count": 12,
   "id": "7a5bedbd-2944-4540-a523-0e8fa058541e",
   "metadata": {},
   "outputs": [
    {
     "name": "stdout",
     "output_type": "stream",
     "text": [
      "Error: Division by zero occurred\n"
     ]
    }
   ],
   "source": [
    "# Q-4: \n",
    "\n",
    "#1. try and catch\n",
    "try:\n",
    "    result = 10 / 0  \n",
    "except ZeroDivisionError:\n",
    "    print(\"Error: Division by zero occurred\")\n",
    "\n",
    "    \n"
   ]
  },
  {
   "cell_type": "code",
   "execution_count": 14,
   "id": "4e3984fa-4a94-44a3-ae8b-47d6b00f650d",
   "metadata": {},
   "outputs": [
    {
     "name": "stdin",
     "output_type": "stream",
     "text": [
      "Enter a number:  66\n"
     ]
    },
    {
     "name": "stdout",
     "output_type": "stream",
     "text": [
      "Result: 0.15151515151515152\n",
      "Finally block executed, regardless of exceptions.\n"
     ]
    }
   ],
   "source": [
    "#2. finally\n",
    "'''The finally block is used along with try and except to specify a block of code that will be executed \n",
    "regardless of whether an exception occurred or not. It's often used for cleanup tasks that need to be \n",
    "performed, no matter the outcome of the try block.'''\n",
    "\n",
    "try:\n",
    "    num = int(input(\"Enter a number: \"))\n",
    "    result = 10 / num\n",
    "except ZeroDivisionError:\n",
    "    print(\"Error: Division by zero occurred\")\n",
    "else:\n",
    "    print(\"Result:\", result)\n",
    "finally:\n",
    "    print(\"Finally block executed, regardless of exceptions.\")"
   ]
  },
  {
   "cell_type": "code",
   "execution_count": 15,
   "id": "2a80b77d-55e5-422d-92f3-2af0f71aae86",
   "metadata": {},
   "outputs": [
    {
     "name": "stdout",
     "output_type": "stream",
     "text": [
      "Error: Age cannot be negative\n"
     ]
    }
   ],
   "source": [
    "#3. Raise\n",
    "\n",
    "def validate_age(age):\n",
    "    if age < 0:\n",
    "        raise ValueError(\"Age cannot be negative\")\n",
    "    return age\n",
    "\n",
    "try:\n",
    "    age = validate_age(-5)\n",
    "except ValueError as e:\n",
    "    print(\"Error:\", e)\n"
   ]
  },
  {
   "cell_type": "code",
   "execution_count": 17,
   "id": "91d561be-36b3-4c05-ae93-ed1f8a6a1ab9",
   "metadata": {},
   "outputs": [
    {
     "name": "stderr",
     "output_type": "stream",
     "text": [
      "ERROR:root:Error: Insufficient funds: Balance 100, Withdrawal 150\n"
     ]
    }
   ],
   "source": [
    "# Q-5:\n",
    "\n",
    "'''Custom exceptions, also known as user-defined exceptions, are exceptions that you create based on your specific needs.\n",
    "Custom exceptions can provide more descriptive error messages and help you handle exceptional situations in a more organized\n",
    "and meaningful way.\n",
    "\n",
    "we use this for :\n",
    "1. Clearer error message \n",
    "2. Structured exception handling\n",
    "3. modularity and reusability\n",
    "4. Enhanced readability\n",
    "\n",
    "example:'''\n",
    "\n",
    "import logging\n",
    "\n",
    "# Configure logging settings\n",
    "logging.basicConfig(level=logging.INFO, format='%(levelname)s: %(message)s')\n",
    "\n",
    "class InsufficientFundsError(Exception):\n",
    "    \"\"\"Custom exception for insufficient funds in an account.\"\"\"\n",
    "    def __init__(self, balance, amount):\n",
    "        self.balance = balance\n",
    "        self.amount = amount\n",
    "        self.message = f\"Insufficient funds: Balance {balance}, Withdrawal {amount}\"\n",
    "\n",
    "def withdraw(balance, amount):\n",
    "    if amount > balance:\n",
    "        raise InsufficientFundsError(balance, amount)\n",
    "    return balance - amount\n",
    "\n",
    "try:\n",
    "    account_balance = 100\n",
    "    withdrawal_amount = 150\n",
    "    new_balance = withdraw(account_balance, withdrawal_amount)\n",
    "    logging.info(\"New balance: %s\", new_balance)\n",
    "except InsufficientFundsError as e:\n",
    "    logging.error(\"Error: %s\", e.message)\n",
    "\n"
   ]
  },
  {
   "cell_type": "code",
   "execution_count": 18,
   "id": "9fbaee2a-af1d-4a37-bf8d-f55e30b166a6",
   "metadata": {},
   "outputs": [
    {
     "name": "stderr",
     "output_type": "stream",
     "text": [
      "ERROR:root:Error: Empty data provided\n"
     ]
    }
   ],
   "source": [
    "'''Q-6:'''\n",
    "\n",
    "import logging\n",
    "\n",
    "# Configure logging settings\n",
    "logging.basicConfig(level=logging.INFO, format='%(levelname)s: %(message)s')\n",
    "\n",
    "class MyCustomError(Exception):\n",
    "    \"\"\"Custom exception class.\"\"\"\n",
    "    def __init__(self, message):\n",
    "        self.message = message\n",
    "        super().__init__(message)\n",
    "\n",
    "def process_data(data):\n",
    "    if not data:\n",
    "        raise MyCustomError(\"Empty data provided\")\n",
    "\n",
    "try:\n",
    "    input_data = []\n",
    "    process_data(input_data)\n",
    "except MyCustomError as e:\n",
    "    logging.error(\"Error: %s\", e.message)\n",
    "\n"
   ]
  },
  {
   "cell_type": "code",
   "execution_count": null,
   "id": "8683393e-89be-48db-8b91-b48ce54e8b20",
   "metadata": {},
   "outputs": [],
   "source": []
  }
 ],
 "metadata": {
  "kernelspec": {
   "display_name": "Python 3 (ipykernel)",
   "language": "python",
   "name": "python3"
  },
  "language_info": {
   "codemirror_mode": {
    "name": "ipython",
    "version": 3
   },
   "file_extension": ".py",
   "mimetype": "text/x-python",
   "name": "python",
   "nbconvert_exporter": "python",
   "pygments_lexer": "ipython3",
   "version": "3.10.8"
  }
 },
 "nbformat": 4,
 "nbformat_minor": 5
}
