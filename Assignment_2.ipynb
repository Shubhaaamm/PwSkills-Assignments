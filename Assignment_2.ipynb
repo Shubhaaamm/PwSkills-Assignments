{
 "cells": [
  {
   "cell_type": "markdown",
   "id": "72b6bda4-e124-4f74-bba0-bc5e7d6ccfdb",
   "metadata": {},
   "source": [
    "Q1. How do you comment code in Python? What are the different types of comments?"
   ]
  },
  {
   "cell_type": "markdown",
   "id": "4417c733-05de-4521-9762-ee1b761fb124",
   "metadata": {},
   "source": [
    "we can comment the code with Two types:\n",
    "1. Single line comment\n",
    "2. Multi line comment\n",
    "examples given below:"
   ]
  },
  {
   "cell_type": "code",
   "execution_count": 2,
   "id": "26182241-51b1-48bc-aef6-599cde33530c",
   "metadata": {},
   "outputs": [
    {
     "data": {
      "text/plain": [
       "' This is multi line comment.\\nthis is PwSkills.\\nIt can span across multiple lines.\\n'"
      ]
     },
     "execution_count": 2,
     "metadata": {},
     "output_type": "execute_result"
    }
   ],
   "source": [
    "# This is single line comment\n",
    "\n",
    "\"\"\" This is multi line comment.\n",
    "this is PwSkills.\n",
    "It can span across multiple lines.\n",
    "\"\"\""
   ]
  },
  {
   "cell_type": "markdown",
   "id": "5b97d23c-e750-41ef-9f19-8bf76fee88a1",
   "metadata": {},
   "source": [
    "Q2. What are variables in Python? How do you declare and assign values to variables?\n",
    "\n",
    "Answer:In Python, variables are used to store data values. They act as containers for storing and manipulating data. To declare a variable in Python, you simply assign a value to a name."
   ]
  },
  {
   "cell_type": "code",
   "execution_count": 3,
   "id": "2b6e9ecd-c0b8-43d1-baf6-3e2f0194345c",
   "metadata": {},
   "outputs": [],
   "source": [
    "# Example of Variable declaration and assignment\n",
    "my_variable = 42\n"
   ]
  },
  {
   "cell_type": "markdown",
   "id": "352f3cf0-fdd3-4736-8b48-b659d1572f05",
   "metadata": {},
   "source": [
    "Q3. How do you convert one data type to another in Python?\n",
    "\n",
    "In Python, you can convert one data type to another using type conversion functions. Some type conversion functions are:\n",
    "\n",
    "int(): Converts a value to an integer.\n",
    "float(): Converts a value to a floating-point number.\n",
    "str(): Converts a value to a string.\n",
    "list(): Converts a value to a list.\n",
    "tuple(): Converts a value to a tuple."
   ]
  },
  {
   "cell_type": "code",
   "execution_count": 5,
   "id": "cc6ae01c-8d28-43c3-af7a-23a01b09863b",
   "metadata": {},
   "outputs": [
    {
     "name": "stdout",
     "output_type": "stream",
     "text": [
      "42\n"
     ]
    }
   ],
   "source": [
    "#Example:Type conversion example\n",
    "A_string = \"42\"\n",
    "B_int = int(A_string)  # Converts the string to an integer\n",
    "print(B_int)  # Output: 42\n",
    "\n"
   ]
  },
  {
   "cell_type": "markdown",
   "id": "c1314de5-f3c8-40df-bcce-22c78ee1ec11",
   "metadata": {},
   "source": [
    "Q4. How do you write and execute a Python script from the command line?\n",
    "\n",
    "To write and execute a Python script from the command line, follow these steps:\n",
    "\n",
    "1.Create a new text file with a .py extension (ex- script.py) and write your Python code in it using a text editor.\n",
    "\n",
    "2.Save the file.\n",
    "\n",
    "O3.pen the command line or terminal and navigate to the directory where the script is saved.\n",
    "\n",
    "4.Execute the script using the python command followed by the script's filename."
   ]
  },
  {
   "cell_type": "markdown",
   "id": "ae6e2f8b-908a-4719-bd2b-d37ba9930f54",
   "metadata": {},
   "source": [
    "Q5. Given a list my_list = [1, 2, 3, 4, 5], write the code to slice the list and obtain the sub-list [2, 3]."
   ]
  },
  {
   "cell_type": "code",
   "execution_count": 6,
   "id": "dc815bda-718e-4a62-a18b-f5610faa312e",
   "metadata": {},
   "outputs": [
    {
     "name": "stdout",
     "output_type": "stream",
     "text": [
      "[2, 3]\n"
     ]
    }
   ],
   "source": [
    "my_list = [1, 2, 3, 4, 5]\n",
    "sub_list = my_list[1:3]  # Slice from index 1 (inclusive) to index 3 (exclusive)\n",
    "print(sub_list)  # Output: [2, 3]\n"
   ]
  },
  {
   "cell_type": "markdown",
   "id": "8b87f6b6-8a78-4cd1-b516-1ac37fc2e005",
   "metadata": {},
   "source": [
    "Q6. What is a complex number in mathematics, and how is it represented in Python?\n",
    "\n",
    "In Python, complex numbers are represented using the complex data type. The imaginary part is denoted by j or J.\n",
    "example 2+5j"
   ]
  },
  {
   "cell_type": "code",
   "execution_count": 10,
   "id": "f10f14e6-c801-4c52-889f-732bda3620c6",
   "metadata": {},
   "outputs": [
    {
     "data": {
      "text/plain": [
       "(2+5j)"
      ]
     },
     "execution_count": 10,
     "metadata": {},
     "output_type": "execute_result"
    }
   ],
   "source": [
    "a=2+5j\n",
    "a"
   ]
  },
  {
   "cell_type": "markdown",
   "id": "0d8dd3b4-eaaa-4fc6-b765-bc0eb6551809",
   "metadata": {},
   "source": [
    "Q7. What is the correct way to declare a variable named age and assign the value 25 to it?"
   ]
  },
  {
   "cell_type": "code",
   "execution_count": 11,
   "id": "a6611086-b272-43d9-a457-eb25b1b724e3",
   "metadata": {},
   "outputs": [
    {
     "data": {
      "text/plain": [
       "25"
      ]
     },
     "execution_count": 11,
     "metadata": {},
     "output_type": "execute_result"
    }
   ],
   "source": [
    "age = 25\n",
    "age"
   ]
  },
  {
   "cell_type": "markdown",
   "id": "ea3bb191-24db-4c69-8242-035c6793a4f9",
   "metadata": {},
   "source": [
    "Q8. Declare a variable named price and assign the value 9.99 to it. What data type does this variable\n",
    "belong to?"
   ]
  },
  {
   "cell_type": "code",
   "execution_count": 14,
   "id": "c9eb5d33-3027-4409-8e0f-61f8f56b2895",
   "metadata": {},
   "outputs": [
    {
     "name": "stdout",
     "output_type": "stream",
     "text": [
      "9.99\n"
     ]
    }
   ],
   "source": [
    "price= 9.99\n",
    "print(price)\n",
    "#variable belongs to Float value..."
   ]
  },
  {
   "cell_type": "markdown",
   "id": "2520386a-0516-4fa2-9ab0-ce91cbc2510b",
   "metadata": {},
   "source": [
    "Q9. Create a variable named name and assign your full name to it as a string. How would you print the\n",
    "value of this variable?"
   ]
  },
  {
   "cell_type": "code",
   "execution_count": 15,
   "id": "9a16b6b6-8292-4db9-9e89-f7d356abbc4f",
   "metadata": {},
   "outputs": [
    {
     "data": {
      "text/plain": [
       "'Shubham Shukla'"
      ]
     },
     "execution_count": 15,
     "metadata": {},
     "output_type": "execute_result"
    }
   ],
   "source": [
    "name= 'Shubham Shukla'\n",
    "name"
   ]
  },
  {
   "cell_type": "markdown",
   "id": "0affb094-b4e3-4b0f-aee8-93daea3d42c8",
   "metadata": {},
   "source": [
    "Q10. Given the string \"Hello, World!\", extract the substring \"World\"."
   ]
  },
  {
   "cell_type": "code",
   "execution_count": 17,
   "id": "cafa628a-7a12-4a10-9a62-2f8c5f4c2d90",
   "metadata": {},
   "outputs": [
    {
     "name": "stdout",
     "output_type": "stream",
     "text": [
      "World\n"
     ]
    }
   ],
   "source": [
    "string = \"Hello, World!\"\n",
    "substring = string[7:-1]\n",
    "print(substring)\n"
   ]
  },
  {
   "cell_type": "markdown",
   "id": "1f94b91c-349f-4d5a-9b0d-ddd6f8082294",
   "metadata": {},
   "source": [
    "Q11. Create a variable named is_student and assign it a boolean value indicating whether you are currently a student or not."
   ]
  },
  {
   "cell_type": "code",
   "execution_count": 18,
   "id": "bbd5cd2d-53db-4926-a448-a469fd538e44",
   "metadata": {},
   "outputs": [],
   "source": [
    "is_student=True"
   ]
  },
  {
   "cell_type": "code",
   "execution_count": null,
   "id": "76aed1db-bf43-4b97-8063-d9f9544ffbd4",
   "metadata": {},
   "outputs": [],
   "source": []
  }
 ],
 "metadata": {
  "kernelspec": {
   "display_name": "Python 3 (ipykernel)",
   "language": "python",
   "name": "python3"
  },
  "language_info": {
   "codemirror_mode": {
    "name": "ipython",
    "version": 3
   },
   "file_extension": ".py",
   "mimetype": "text/x-python",
   "name": "python",
   "nbconvert_exporter": "python",
   "pygments_lexer": "ipython3",
   "version": "3.10.8"
  }
 },
 "nbformat": 4,
 "nbformat_minor": 5
}
