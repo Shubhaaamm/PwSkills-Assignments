{
 "cells": [
  {
   "cell_type": "raw",
   "id": "c442a829-6e12-46e1-b0b3-e11420da67a9",
   "metadata": {},
   "source": [
    "# Q-1:\n",
    "\n",
    "Multithreading is a way of executing multiple threads (smaller units of a process) simultaneously within a single process.\n",
    "\n",
    "It is used to achieve better utilization of available resources and improve the responsiveness of a program, especially when dealing with tasks that can be performed concurrently. \n",
    "\n",
    "In Python, the threading module is used to handle threads."
   ]
  },
  {
   "cell_type": "raw",
   "id": "d843e015-5bc9-47b0-9c0d-83e09e2879c8",
   "metadata": {},
   "source": [
    "# Q-2:\n",
    "\n",
    "The threading module is used to create and manage threads in Python. Here are the explanations for the mentioned functions:\n",
    "\n",
    "activeCount(): This function returns the number of Thread objects currently alive.\n",
    "\n",
    "currentThread(): This function returns the current Thread object corresponding to the caller's thread of control.\n",
    "\n",
    "enumerate(): This function returns a list of all Thread objects currently alive.\n"
   ]
  },
  {
   "cell_type": "raw",
   "id": "0012e3f9-b2ae-4f5d-b92d-745b4ff3f959",
   "metadata": {},
   "source": [
    "# Q-3:\n",
    "\n",
    "run(): This is the method representing the code to be executed when a thread starts. It is called when start() is called on a Thread object.\n",
    "\n",
    "start(): This method starts the thread's activity by calling its run() method.\n",
    "\n",
    "join(): This method blocks the calling thread until the thread whose join() method is called is terminated.\n",
    "\n",
    "isAlive(): This method returns True if the thread is currently executing, and False otherwise.\n"
   ]
  },
  {
   "cell_type": "code",
   "execution_count": 9,
   "id": "99cf3cbf-bc77-4163-9a33-03f7eae35570",
   "metadata": {},
   "outputs": [
    {
     "name": "stdout",
     "output_type": "stream",
     "text": [
      "Square of 1: 1\n",
      "Square of 2: 4\n",
      "Square of 3: 9\n",
      "Square of 4: 16\n",
      "Square of 5: 25\n",
      "Cube of 1: 1\n",
      "Cube of 2: 8\n",
      "Cube of 3: 27\n",
      "Cube of 4: 64\n",
      "Cube of 5: 125\n",
      "Both threads have finished\n"
     ]
    }
   ],
   "source": [
    "# Q-4:\n",
    "\n",
    "import threading\n",
    "\n",
    "def print_squares():\n",
    "    for i in range(1, 6):\n",
    "        print(f\"Square of {i}: {i**2}\")\n",
    "\n",
    "def print_cubes():\n",
    "    for i in range(1, 6):\n",
    "        print(f\"Cube of {i}: {i**3}\")\n",
    "\n",
    "thread1 = threading.Thread(target=print_squares)\n",
    "thread2 = threading.Thread(target=print_cubes)\n",
    "\n",
    "thread1.start()\n",
    "thread2.start()\n",
    "\n",
    "thread1.join()\n",
    "thread2.join()\n",
    "\n",
    "print(\"Both threads have finished\")\n"
   ]
  },
  {
   "cell_type": "raw",
   "id": "7b729980-5dd0-4181-a450-31cec395d8ca",
   "metadata": {},
   "source": [
    "# Q-5:\n",
    "\n",
    "⭐Advantages:\n",
    "1.Improved resource utilization.\n",
    "2.Enhanced responsiveness and better user experience.\n",
    "3.Efficient handling of I/O-bound tasks.\n",
    "4.Sharing of data and resources between threads.\n",
    "\n",
    "\n",
    "⭐Disadvantages:\n",
    "1.Increased complexity due to potential synchronization issues.\n",
    "2.Difficult debugging of race conditions and deadlocks.\n",
    "3.Global Interpreter Lock (GIL) in CPython restricts true parallel execution for CPU-bound tasks."
   ]
  },
  {
   "cell_type": "raw",
   "id": "18ad1330-3c2a-4f2c-b085-241edde49fb9",
   "metadata": {},
   "source": [
    "# Q-6:\n",
    "\n",
    "💻Deadlock: A deadlock occurs when two or more threads are unable to proceed with their execution because each thread is waiting for a resource that's held by another thread, creating a circular dependency.\n",
    "\n",
    "\n",
    "💻Race Condition: A race condition happens when two or more threads access shared resources simultaneously, and the final outcome depends on the order of execution. This can lead to unpredictable behavior or incorrect results."
   ]
  },
  {
   "cell_type": "code",
   "execution_count": null,
   "id": "0fa65af4-5629-4b01-8a5a-2ee5ef136841",
   "metadata": {},
   "outputs": [],
   "source": []
  }
 ],
 "metadata": {
  "kernelspec": {
   "display_name": "Python 3 (ipykernel)",
   "language": "python",
   "name": "python3"
  },
  "language_info": {
   "codemirror_mode": {
    "name": "ipython",
    "version": 3
   },
   "file_extension": ".py",
   "mimetype": "text/x-python",
   "name": "python",
   "nbconvert_exporter": "python",
   "pygments_lexer": "ipython3",
   "version": "3.10.8"
  }
 },
 "nbformat": 4,
 "nbformat_minor": 5
}
