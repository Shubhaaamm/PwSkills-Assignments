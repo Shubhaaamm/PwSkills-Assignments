{
 "cells": [
  {
   "cell_type": "code",
   "execution_count": 2,
   "id": "e605d793-3ed1-48f0-9217-fa938313fc0e",
   "metadata": {},
   "outputs": [
    {
     "data": {
      "text/plain": [
       "\"Q1: \\nAns: A database is a structured collection of data organized in a way that allows for efficient storage, retrieval, and manipulation of that data. Databases are used to \\nstore and manage vast amounts of information in various applications, from simple data storage to complex business systems and web applications. They serve as the foundation\\nfor data-driven applications and are essential for storing and accessing structured information.\\n\\nThere are two primary categories of databases: SQL (Structured Query Language) databases and NoSQL (Not Only SQL) databases. Here's a differentiation between the two:\\n\\nSQL Databases:\\n1. Data Structure:\\n   - SQL databases are relational databases, which means they organize data into structured tables with predefined schemas.\\n   - Data in SQL databases is typically stored in rows and columns, and each table has a specific structure defined by columns with data types.\\n\\n2. Schema:\\n   - SQL databases use a fixed schema, which means the structure of the data (table columns, data types, and relationships) is defined before data is inserted.\\n   - Changing the schema can be complex and might require data migration.\\n\\n3. Query Language:\\n   - SQL databases use the Structured Query Language (SQL) to query and manipulate data.\\n   - SQL provides a standardized way to interact with the database, making it suitable for complex queries and reporting.\\n\\n4. ACID Transactions:\\n   - SQL databases typically support ACID (Atomicity, Consistency, Isolation, Durability) transactions, ensuring data consistency and integrity.\\n\\n5. Use Cases:\\n   - SQL databases are often used in applications where data consistency and relationships between data entities are critical, such as financial systems, e-commerce\\n   platforms, and customer relationship management (CRM) systems.\\n\\nNoSQL Databases:\\n1. Data Structure:\\n   - NoSQL databases are non-relational databases, which means they can store data in various formats, such as JSON, XML, or key-value pairs.\\n   - The structure of data can be flexible and dynamic, allowing for schemaless storage.\\n\\n2. Schema:\\n   - NoSQL databases are schema-less or schema-flexible, which means you can add or change fields without altering the entire database structure.\\n   - This flexibility makes it suitable for rapidly evolving data.\\n\\n3. Query Language:\\n   - NoSQL databases use various query languages and APIs, depending on the database type (e.g., MongoDB uses JSON-like queries, Cassandra uses CQL, etc.).\\n   - The query capabilities may be less powerful than SQL for complex joins and reporting.\\n\\n4. ACID Transactions:\\n   - NoSQL databases often prioritize high availability and scalability over strict ACID compliance.\\n   - Some NoSQL databases offer eventual consistency, which means data consistency is achieved over time rather than instantly.\\n\\n5. Use Cases:\\n   - NoSQL databases are commonly used in applications with large volumes of unstructured or semi-structured data, real-time analytics, IoT, and social media platforms.\\n\\nIn summary, SQL databases are well-suited for applications that require a fixed schema, complex queries, and strong data consistency guarantees. NoSQL databases are better\\nsuited for applications where data models are evolving, scalability, and high availability are essential, and flexible data storage is required. The choice between SQL and NoSQL \\ndatabases depends on the specific requirements of your application and the nature of your data. \""
      ]
     },
     "execution_count": 2,
     "metadata": {},
     "output_type": "execute_result"
    }
   ],
   "source": [
    "'''Q1: \n",
    "Ans: A database is a structured collection of data organized in a way that allows for efficient storage, retrieval, and manipulation of that data. Databases are used to \n",
    "store and manage vast amounts of information in various applications, from simple data storage to complex business systems and web applications. They serve as the foundation\n",
    "for data-driven applications and are essential for storing and accessing structured information.\n",
    "\n",
    "There are two primary categories of databases: SQL (Structured Query Language) databases and NoSQL (Not Only SQL) databases. Here's a differentiation between the two:\n",
    "\n",
    "SQL Databases:\n",
    "1. Data Structure:\n",
    "   - SQL databases are relational databases, which means they organize data into structured tables with predefined schemas.\n",
    "   - Data in SQL databases is typically stored in rows and columns, and each table has a specific structure defined by columns with data types.\n",
    "\n",
    "2. Schema:\n",
    "   - SQL databases use a fixed schema, which means the structure of the data (table columns, data types, and relationships) is defined before data is inserted.\n",
    "   - Changing the schema can be complex and might require data migration.\n",
    "\n",
    "3. Query Language:\n",
    "   - SQL databases use the Structured Query Language (SQL) to query and manipulate data.\n",
    "   - SQL provides a standardized way to interact with the database, making it suitable for complex queries and reporting.\n",
    "\n",
    "4. ACID Transactions:\n",
    "   - SQL databases typically support ACID (Atomicity, Consistency, Isolation, Durability) transactions, ensuring data consistency and integrity.\n",
    "\n",
    "5. Use Cases:\n",
    "   - SQL databases are often used in applications where data consistency and relationships between data entities are critical, such as financial systems, e-commerce\n",
    "   platforms, and customer relationship management (CRM) systems.\n",
    "\n",
    "NoSQL Databases:\n",
    "1. Data Structure:\n",
    "   - NoSQL databases are non-relational databases, which means they can store data in various formats, such as JSON, XML, or key-value pairs.\n",
    "   - The structure of data can be flexible and dynamic, allowing for schemaless storage.\n",
    "\n",
    "2. Schema:\n",
    "   - NoSQL databases are schema-less or schema-flexible, which means you can add or change fields without altering the entire database structure.\n",
    "   - This flexibility makes it suitable for rapidly evolving data.\n",
    "\n",
    "3. Query Language:\n",
    "   - NoSQL databases use various query languages and APIs, depending on the database type (e.g., MongoDB uses JSON-like queries, Cassandra uses CQL, etc.).\n",
    "   - The query capabilities may be less powerful than SQL for complex joins and reporting.\n",
    "\n",
    "4. ACID Transactions:\n",
    "   - NoSQL databases often prioritize high availability and scalability over strict ACID compliance.\n",
    "   - Some NoSQL databases offer eventual consistency, which means data consistency is achieved over time rather than instantly.\n",
    "\n",
    "5. Use Cases:\n",
    "   - NoSQL databases are commonly used in applications with large volumes of unstructured or semi-structured data, real-time analytics, IoT, and social media platforms.\n",
    "\n",
    "In summary, SQL databases are well-suited for applications that require a fixed schema, complex queries, and strong data consistency guarantees. NoSQL databases are better\n",
    "suited for applications where data models are evolving, scalability, and high availability are essential, and flexible data storage is required. The choice between SQL and NoSQL \n",
    "databases depends on the specific requirements of your application and the nature of your data. '''"
   ]
  },
  {
   "cell_type": "code",
   "execution_count": 1,
   "id": "952b2cc1-9698-40a2-8d3d-9a1a779cc334",
   "metadata": {},
   "outputs": [
    {
     "data": {
      "text/plain": [
       "'DDL (Data Definition Language) is a subset of SQL (Structured Query Language) used for defining and managing the structure of a database,\\n    including tables, schemas, constraints, and indexes. DDL includes commands like CREATE, DROP, ALTER, and TRUNCATE:\\n CREATE: This command is used to create database objects such as tables, views, indexes, or schemas.\\n DROP: The DROP command is used to delete database objects like tables or indexes.\\n ALTER: ALTER allows you to modify the structure of an existing database object. You can add, modify, or delete columns, constraints, or indexes.\\n TRUNCATE: TRUNCATE is used to quickly delete all rows from a table without deleting the table structure itself.\\n\\nCREATE TABLE employees (\\n    employee_id INT PRIMARY KEY,\\n    first_name VARCHAR(50),\\n    last_name VARCHAR(50),\\n    hire_date DATE\\n);\\nDROP TABLE employees;\\nALTER TABLE employees\\nADD COLUMN email VARCHAR(100);\\nTRUNCATE TABLE employees;\\n'"
      ]
     },
     "execution_count": 1,
     "metadata": {},
     "output_type": "execute_result"
    }
   ],
   "source": [
    "# Q2:;\n",
    "# Ans:\n",
    "'''DDL (Data Definition Language) is a subset of SQL (Structured Query Language) used for defining and managing the structure of a database,\n",
    "    including tables, schemas, constraints, and indexes. DDL includes commands like CREATE, DROP, ALTER, and TRUNCATE:\n",
    " CREATE: This command is used to create database objects such as tables, views, indexes, or schemas.\n",
    " DROP: The DROP command is used to delete database objects like tables or indexes.\n",
    " ALTER: ALTER allows you to modify the structure of an existing database object. You can add, modify, or delete columns, constraints, or indexes.\n",
    " TRUNCATE: TRUNCATE is used to quickly delete all rows from a table without deleting the table structure itself.\n",
    "\n",
    "CREATE TABLE employees (\n",
    "    employee_id INT PRIMARY KEY,\n",
    "    first_name VARCHAR(50),\n",
    "    last_name VARCHAR(50),\n",
    "    hire_date DATE\n",
    ");\n",
    "DROP TABLE employees;\n",
    "ALTER TABLE employees\n",
    "ADD COLUMN email VARCHAR(100);\n",
    "TRUNCATE TABLE employees;\n",
    "'''\n",
    "\n"
   ]
  },
  {
   "cell_type": "code",
   "execution_count": 3,
   "id": "2ab83bc7-7a61-4008-82d4-35f5d1b49cbe",
   "metadata": {},
   "outputs": [
    {
     "data": {
      "text/plain": [
       "\"Q3:\\nAns:\\n. DML (Data Manipulation Language) is used to manipulate and manage data within a database. It includes commands like\\nINSERT, UPDATE, and DELETE:\\n\\nINSERT: INSERT is used to add new records (rows) into a table. \\nUPDATE: UPDATE is used to modify existing records in a table.\\nDELETE: DELETE is used to remove records from a table. \\n\\nINSERT INTO employees (employee_id, first_name, last_name, hire_date)\\nVALUES (1, 'John', 'Doe', '2023-09-14');\\n\\nUPDATE employees\\nSET first_name = 'Jane'\\nWHERE employee_id = 1;\\n\\nDELETE FROM employees\\nWHERE employee_id = 1;\\n\\n\""
      ]
     },
     "execution_count": 3,
     "metadata": {},
     "output_type": "execute_result"
    }
   ],
   "source": [
    "'''Q3:\n",
    "Ans:\n",
    ". DML (Data Manipulation Language) is used to manipulate and manage data within a database. It includes commands like\n",
    "INSERT, UPDATE, and DELETE:\n",
    "\n",
    "INSERT: INSERT is used to add new records (rows) into a table. \n",
    "UPDATE: UPDATE is used to modify existing records in a table.\n",
    "DELETE: DELETE is used to remove records from a table. \n",
    "\n",
    "INSERT INTO employees (employee_id, first_name, last_name, hire_date)\n",
    "VALUES (1, 'John', 'Doe', '2023-09-14');\n",
    "\n",
    "UPDATE employees\n",
    "SET first_name = 'Jane'\n",
    "WHERE employee_id = 1;\n",
    "\n",
    "DELETE FROM employees\n",
    "WHERE employee_id = 1;\n",
    "\n",
    "'''"
   ]
  },
  {
   "cell_type": "code",
   "execution_count": 4,
   "id": "00ee719f-0aca-4e54-b436-e12c0f5dd94c",
   "metadata": {},
   "outputs": [
    {
     "data": {
      "text/plain": [
       "\"Q4:\\nAns:\\nDQL (Data Query Language) is used to retrieve data from a database. The primary DQL command is SELECT:\\n\\nSELECT first_name, last_name\\nFROM employees\\nWHERE hire_date >= '2022-01-01';\\n\""
      ]
     },
     "execution_count": 4,
     "metadata": {},
     "output_type": "execute_result"
    }
   ],
   "source": [
    "'''Q4:\n",
    "Ans:\n",
    "DQL (Data Query Language) is used to retrieve data from a database. The primary DQL command is SELECT:\n",
    "\n",
    "SELECT first_name, last_name\n",
    "FROM employees\n",
    "WHERE hire_date >= '2022-01-01';\n",
    "'''"
   ]
  },
  {
   "cell_type": "code",
   "execution_count": 1,
   "id": "76aafa02-a8a6-4d44-91d5-677fb2ccfd45",
   "metadata": {},
   "outputs": [
    {
     "data": {
      "text/plain": [
       "'Q5:\\nANS:\\n Primary Key and Foreign Key are database constraints used to establish relationships between tables:\\n\\nPrimary Key (PK): A Primary Key is a column or a set of columns that uniquely identify each row in a \\n  table. It enforces data integrity by ensuring that each value in the primary key is unique and not null. \\n\\nexample:\\nCREATE TABLE departments (\\n    department_id INT PRIMARY KEY,\\n    department_name VARCHAR(50)\\n);\\n\\nForeign Key (FK): A Foreign Key is a column or a set of columns in one table that refers to the primary \\n  key of another table. It establishes a relationship between the two tables.\\nexample:\\nCREATE TABLE employees (\\n    employee_id INT PRIMARY KEY,\\n    first_name VARCHAR(50),\\n    last_name VARCHAR(50),\\n    department_id INT,\\n    FOREIGN KEY (department_id) REFERENCES departments(department_id)\\n);\\n'"
      ]
     },
     "execution_count": 1,
     "metadata": {},
     "output_type": "execute_result"
    }
   ],
   "source": [
    "'''Q5:\n",
    "ANS:\n",
    " Primary Key and Foreign Key are database constraints used to establish relationships between tables:\n",
    "\n",
    "Primary Key (PK): A Primary Key is a column or a set of columns that uniquely identify each row in a \n",
    "  table. It enforces data integrity by ensuring that each value in the primary key is unique and not null. \n",
    "\n",
    "example:\n",
    "CREATE TABLE departments (\n",
    "    department_id INT PRIMARY KEY,\n",
    "    department_name VARCHAR(50)\n",
    ");\n",
    "\n",
    "Foreign Key (FK): A Foreign Key is a column or a set of columns in one table that refers to the primary \n",
    "  key of another table. It establishes a relationship between the two tables.\n",
    "example:\n",
    "CREATE TABLE employees (\n",
    "    employee_id INT PRIMARY KEY,\n",
    "    first_name VARCHAR(50),\n",
    "    last_name VARCHAR(50),\n",
    "    department_id INT,\n",
    "    FOREIGN KEY (department_id) REFERENCES departments(department_id)\n",
    ");\n",
    "'''"
   ]
  },
  {
   "cell_type": "code",
   "execution_count": 3,
   "id": "7fa43924-ff3c-4af4-a832-528284eab9f2",
   "metadata": {},
   "outputs": [
    {
     "data": {
      "text/plain": [
       "'Q6:\\nAns:\\nimport mysql.connector\\n\\nconn = mysql.connector.connect(\\n    host=\"your_host\",\\n    user=\"your_user\",\\n    password=\"your_password\",\\n    database=\"your_database\"\\n)\\n\\n\\ncursor = conn.cursor()\\n\\n\\ncursor.execute(\"SELECT * FROM your_table\")\\n\\n\\nfor row in cursor.fetchall():\\n    print(row)\\n\\n\\ncursor.close()\\nconn.close()\\n\\ncursor(): The cursor() method creates a cursor object, which is used to execute SQL queries and fetch results.\\n\\nexecute(): The execute() method is used to execute SQL queries. You pass the SQL query as a string argument to \\nthis method. After executing the query, you can use methods like fetchall() to retrieve the results.\\n\\n'"
      ]
     },
     "execution_count": 3,
     "metadata": {},
     "output_type": "execute_result"
    }
   ],
   "source": [
    "'''Q6:\n",
    "Ans:\n",
    "import mysql.connector\n",
    "\n",
    "conn = mysql.connector.connect(\n",
    "    host=\"your_host\",\n",
    "    user=\"your_user\",\n",
    "    password=\"your_password\",\n",
    "    database=\"your_database\"\n",
    ")\n",
    "\n",
    "\n",
    "cursor = conn.cursor()\n",
    "\n",
    "\n",
    "cursor.execute(\"SELECT * FROM your_table\")\n",
    "\n",
    "\n",
    "for row in cursor.fetchall():\n",
    "    print(row)\n",
    "\n",
    "\n",
    "cursor.close()\n",
    "conn.close()\n",
    "\n",
    "cursor(): The cursor() method creates a cursor object, which is used to execute SQL queries and fetch results.\n",
    "\n",
    "execute(): The execute() method is used to execute SQL queries. You pass the SQL query as a string argument to \n",
    "this method. After executing the query, you can use methods like fetchall() to retrieve the results.\n",
    "\n",
    "'''"
   ]
  },
  {
   "cell_type": "code",
   "execution_count": 4,
   "id": "8a7bc381-8d87-4b82-937a-8236477210b9",
   "metadata": {},
   "outputs": [
    {
     "data": {
      "text/plain": [
       "\"Q7:\\nAns:\\nSELECT: This clause specifies what data you want to retrieve from the database.\\n\\nFROM: The FROM clause identifies the table or tables from which to retrieve the data.\\n\\nJOIN: If you're joining multiple tables, the JOIN clause specifies how the tables are connected.\\n\\nWHERE: The WHERE clause filters the rows based on specified conditions.\\n\\nGROUP BY: The GROUP BY clause is used for grouping rows based on one or more columns.\\n\\nHAVING: The HAVING clause filters groups of rows based on conditions.\\n\\nORDER BY: The ORDER BY clause sorts the result set based on specified columns and sort orders.\\n\\nLIMIT/OFFSET: If you want to limit the number of rows returned or implement pagination, you can use LIMIT and OFFSET clauses.\\n\\nUNION/INTERSECT/EXCEPT (for set operations): If you're performing set operations, these clauses combine results from multiple queries.\\n\""
      ]
     },
     "execution_count": 4,
     "metadata": {},
     "output_type": "execute_result"
    }
   ],
   "source": [
    "'''Q7:\n",
    "Ans:\n",
    "SELECT: This clause specifies what data you want to retrieve from the database.\n",
    "\n",
    "FROM: The FROM clause identifies the table or tables from which to retrieve the data.\n",
    "\n",
    "JOIN: If you're joining multiple tables, the JOIN clause specifies how the tables are connected.\n",
    "\n",
    "WHERE: The WHERE clause filters the rows based on specified conditions.\n",
    "\n",
    "GROUP BY: The GROUP BY clause is used for grouping rows based on one or more columns.\n",
    "\n",
    "HAVING: The HAVING clause filters groups of rows based on conditions.\n",
    "\n",
    "ORDER BY: The ORDER BY clause sorts the result set based on specified columns and sort orders.\n",
    "\n",
    "LIMIT/OFFSET: If you want to limit the number of rows returned or implement pagination, you can use LIMIT and OFFSET clauses.\n",
    "\n",
    "UNION/INTERSECT/EXCEPT (for set operations): If you're performing set operations, these clauses combine results from multiple queries.\n",
    "'''"
   ]
  },
  {
   "cell_type": "code",
   "execution_count": null,
   "id": "92c47df0-59e5-4f39-a4b7-44d4c6a8839f",
   "metadata": {},
   "outputs": [],
   "source": []
  }
 ],
 "metadata": {
  "kernelspec": {
   "display_name": "Python 3 (ipykernel)",
   "language": "python",
   "name": "python3"
  },
  "language_info": {
   "codemirror_mode": {
    "name": "ipython",
    "version": 3
   },
   "file_extension": ".py",
   "mimetype": "text/x-python",
   "name": "python",
   "nbconvert_exporter": "python",
   "pygments_lexer": "ipython3",
   "version": "3.10.8"
  }
 },
 "nbformat": 4,
 "nbformat_minor": 5
}
