{
 "cells": [
  {
   "cell_type": "code",
   "execution_count": 1,
   "id": "eb694ff7-996f-43cd-b5ce-7d48f1b3c5ae",
   "metadata": {},
   "outputs": [
    {
     "data": {
      "text/plain": [
       "\"Q1:\\n    MongoDB is a popular open-source, NoSQL (non-relational) database management system that stores data in a flexible,\\n    semi-structured BSON (Binary JSON) format. Unlike SQL databases, MongoDB doesn't require a predefined schema, allowing\\n    you to store and retrieve data without a rigid structure.\\n\\nNon-relational databases, like MongoDB, are preferred in scenarios where:\\n\\nScalability: MongoDB is designed for horizontal scalability, making it suitable for applications with rapidly growing data and high traffic.\\nFlexible Schema: MongoDB allows you to adapt to changing data requirements without modifying existing data, making it well-suited for agile\\ndevelopment.\\nComplex Data: It can handle complex, hierarchical, and nested data structures more naturally than tabular SQL databases.\\nDocument-Oriented: MongoDB is particularly useful for document-oriented databases where data is represented as documents, which can contain \\na variety of data types.\\nBig Data: It can handle large volumes of unstructured or semi-structured data, which is common in big data applications.\""
      ]
     },
     "execution_count": 1,
     "metadata": {},
     "output_type": "execute_result"
    }
   ],
   "source": [
    "'''Q1:\n",
    "    MongoDB is a popular open-source, NoSQL (non-relational) database management system that stores data in a flexible,\n",
    "    semi-structured BSON (Binary JSON) format. Unlike SQL databases, MongoDB doesn't require a predefined schema, allowing\n",
    "    you to store and retrieve data without a rigid structure.\n",
    "\n",
    "Non-relational databases, like MongoDB, are preferred in scenarios where:\n",
    "\n",
    "Scalability: MongoDB is designed for horizontal scalability, making it suitable for applications with rapidly growing data and high traffic.\n",
    "Flexible Schema: MongoDB allows you to adapt to changing data requirements without modifying existing data, making it well-suited for agile\n",
    "development.\n",
    "Complex Data: It can handle complex, hierarchical, and nested data structures more naturally than tabular SQL databases.\n",
    "Document-Oriented: MongoDB is particularly useful for document-oriented databases where data is represented as documents, which can contain \n",
    "a variety of data types.\n",
    "Big Data: It can handle large volumes of unstructured or semi-structured data, which is common in big data applications.'''"
   ]
  },
  {
   "cell_type": "code",
   "execution_count": 4,
   "id": "273ad99d-e0f5-450b-aed1-c2f5e0223f5d",
   "metadata": {},
   "outputs": [
    {
     "data": {
      "text/plain": [
       "\"Q2:\\nMongoDB offers several key features:\\n\\nFlexible Schema: MongoDB doesn't require a predefined schema, allowing you to change data structure on-the-fly.\\n\\nScalability: It supports horizontal scaling, enabling you to distribute data across multiple servers or clusters.\\n\\nHigh Performance: MongoDB's document-oriented model, indexing, and caching lead to high read and write performance.\\n\\nRich Query Language: It supports complex queries, indexing, and aggregation, making it suitable for a wide range of applications.\\n\\nAutomatic Sharding: MongoDB can automatically distribute data across multiple servers to accommodate growing datasets.\\n\\nDocument-Oriented: Data is stored as JSON-like BSON documents, which are more natural for developers working with modern programming languages.\\n\\nReplication: MongoDB supports replica sets for data redundancy and high availability.\\n\\nGeospatial Indexing: It provides geospatial indexing and querying capabilities for location-based data.\""
      ]
     },
     "execution_count": 4,
     "metadata": {},
     "output_type": "execute_result"
    }
   ],
   "source": [
    "'''Q2:\n",
    "MongoDB offers several key features:\n",
    "\n",
    "Flexible Schema: MongoDB doesn't require a predefined schema, allowing you to change data structure on-the-fly.\n",
    "\n",
    "Scalability: It supports horizontal scaling, enabling you to distribute data across multiple servers or clusters.\n",
    "\n",
    "High Performance: MongoDB's document-oriented model, indexing, and caching lead to high read and write performance.\n",
    "\n",
    "Rich Query Language: It supports complex queries, indexing, and aggregation, making it suitable for a wide range of applications.\n",
    "\n",
    "Automatic Sharding: MongoDB can automatically distribute data across multiple servers to accommodate growing datasets.\n",
    "\n",
    "Document-Oriented: Data is stored as JSON-like BSON documents, which are more natural for developers working with modern programming languages.\n",
    "\n",
    "Replication: MongoDB supports replica sets for data redundancy and high availability.\n",
    "\n",
    "Geospatial Indexing: It provides geospatial indexing and querying capabilities for location-based data.'''"
   ]
  },
  {
   "cell_type": "code",
   "execution_count": 5,
   "id": "f5d711f4-27f5-4aaa-b816-efc75c1fc6c5",
   "metadata": {},
   "outputs": [
    {
     "data": {
      "text/plain": [
       "'import pymongo\\n\\n# Establish a connection to MongoDB\\nclient = pymongo.MongoClient(\"mongodb://localhost:27017/\")  # Replace with your MongoDB server URL\\n\\n# Create a new database\\nmydb = client[\"mydatabase\"]  \\n\\n# Create a new collection in the database\\nmycol = mydb[\"mycollection\"] \\n\\n# Check \\nprint(client.list_database_names())\\nprint(mydb.list_collection_names())'"
      ]
     },
     "execution_count": 5,
     "metadata": {},
     "output_type": "execute_result"
    }
   ],
   "source": [
    "''' Q3:\n",
    "\n",
    "import pymongo\n",
    "\n",
    "# Establish a connection to MongoDB\n",
    "client = pymongo.MongoClient(\"mongodb://localhost:27017/\")  # Replace with your MongoDB server URL\n",
    "\n",
    "# Create a new database\n",
    "mydb = client[\"mydatabase\"]  \n",
    "\n",
    "# Create a new collection in the database\n",
    "mycol = mydb[\"mycollection\"] \n",
    "\n",
    "# Check \n",
    "print(client.list_database_names())\n",
    "print(mydb.list_collection_names())'''\n"
   ]
  },
  {
   "cell_type": "code",
   "execution_count": 6,
   "id": "cc167147-9438-4b62-897d-a44ef248bb9e",
   "metadata": {},
   "outputs": [
    {
     "data": {
      "text/plain": [
       "'Q4:\\n\\n# Insert one record into the collection\\nrecord_one = {\"name\": \"John\", \"age\": 30}\\ninserted_one = mycol.insert_one(record_one)\\nprint(\"Inserted ID:\", inserted_one.inserted_id)\\n\\n# Insert many records into the collection\\nrecords_many = [\\n    {\"name\": \"Jane\", \"age\": 25},\\n    {\"name\": \"Bob\", \"age\": 35}\\n]\\ninserted_many = mycol.insert_many(records_many)\\nprint(\"Inserted IDs:\", inserted_many.inserted_ids)\\n\\n# Find and print one record\\nresult_one = mycol.find_one({\"name\": \"John\"})\\nprint(\"One Record:\", result_one)\\n\\n# Find and print all records\\nresult_all = mycol.find()\\nfor record in result_all:\\n    print(\"All Records:\", record)\\n'"
      ]
     },
     "execution_count": 6,
     "metadata": {},
     "output_type": "execute_result"
    }
   ],
   "source": [
    "'''Q4:\n",
    "\n",
    "# Insert one record into the collection\n",
    "record_one = {\"name\": \"John\", \"age\": 30}\n",
    "inserted_one = mycol.insert_one(record_one)\n",
    "print(\"Inserted ID:\", inserted_one.inserted_id)\n",
    "\n",
    "# Insert many records into the collection\n",
    "records_many = [\n",
    "    {\"name\": \"Jane\", \"age\": 25},\n",
    "    {\"name\": \"Bob\", \"age\": 35}\n",
    "]\n",
    "inserted_many = mycol.insert_many(records_many)\n",
    "print(\"Inserted IDs:\", inserted_many.inserted_ids)\n",
    "\n",
    "# Find and print one record\n",
    "result_one = mycol.find_one({\"name\": \"John\"})\n",
    "print(\"One Record:\", result_one)\n",
    "\n",
    "# Find and print all records\n",
    "result_all = mycol.find()\n",
    "for record in result_all:\n",
    "    print(\"All Records:\", record)\n",
    "'''"
   ]
  },
  {
   "cell_type": "code",
   "execution_count": 7,
   "id": "7394b31b-8780-4ab0-8233-721bd3790b17",
   "metadata": {},
   "outputs": [
    {
     "data": {
      "text/plain": [
       "'Q5:\\n\\nThe find() method is used to query documents in a MongoDB collection. You can specify query conditions as a dictionary in the find() method.\\n\\n# Find documents with age greater than 25\\nquery = {\"age\": {\"$gt\": 25}}\\nresult = mycol.find(query)\\n\\nfor record in result:\\n    print(\"Record:\", record)\\n'"
      ]
     },
     "execution_count": 7,
     "metadata": {},
     "output_type": "execute_result"
    }
   ],
   "source": [
    "'''Q5:\n",
    "\n",
    "The find() method is used to query documents in a MongoDB collection. You can specify query conditions as a dictionary in the find() method.\n",
    "\n",
    "# Find documents with age greater than 25\n",
    "query = {\"age\": {\"$gt\": 25}}\n",
    "result = mycol.find(query)\n",
    "\n",
    "for record in result:\n",
    "    print(\"Record:\", record)\n",
    "'''"
   ]
  },
  {
   "cell_type": "code",
   "execution_count": 8,
   "id": "89bae8ec-aec2-4a59-9f4f-0183509e8669",
   "metadata": {},
   "outputs": [
    {
     "data": {
      "text/plain": [
       "'Q6:\\n\\nThe sort() method in MongoDB is used to sort the documents in a collection based on one or more fields. You can specify the sort order as ascending (1) or descending (-1).\\n\\n# Sort documents by age in ascending order\\nresult = mycol.find().sort(\"age\", 1)\\n\\nfor record in result:\\n    print(\"Sorted by Age (Ascending):\", record)\\n'"
      ]
     },
     "execution_count": 8,
     "metadata": {},
     "output_type": "execute_result"
    }
   ],
   "source": [
    "'''Q6:\n",
    "\n",
    "The sort() method in MongoDB is used to sort the documents in a collection based on one or more fields. You can specify the sort order as ascending (1) or descending (-1).\n",
    "\n",
    "# Sort documents by age in ascending order\n",
    "result = mycol.find().sort(\"age\", 1)\n",
    "\n",
    "for record in result:\n",
    "    print(\"Sorted by Age (Ascending):\", record)\n",
    "'''"
   ]
  },
  {
   "cell_type": "code",
   "execution_count": 9,
   "id": "c0c578df-f565-40cb-9479-362650373169",
   "metadata": {},
   "outputs": [
    {
     "data": {
      "text/plain": [
       "'Q7:\\n\\ndelete_one(filter): This method is used to delete a single document from a collection that matches the specified filter criteria. \\nIt is useful when you want to remove a specific document from the collection.\\n\\ndelete_many(filter): This method is used to delete multiple documents from a collection that match the specified filter criteria.\\nIt allows you to remove multiple documents that meet certain conditions.\\n\\ndrop(): This method is used to delete an entire collection from the database. It removes all documents and the collection itself. \\nUse it with caution, as it irreversibly deletes data.\\n\\nThese methods are used to manage data within a MongoDB collection by deleting specific documents or entire collections as needed.'"
      ]
     },
     "execution_count": 9,
     "metadata": {},
     "output_type": "execute_result"
    }
   ],
   "source": [
    "'''Q7:\n",
    "\n",
    "delete_one(filter): This method is used to delete a single document from a collection that matches the specified filter criteria. \n",
    "It is useful when you want to remove a specific document from the collection.\n",
    "\n",
    "delete_many(filter): This method is used to delete multiple documents from a collection that match the specified filter criteria.\n",
    "It allows you to remove multiple documents that meet certain conditions.\n",
    "\n",
    "drop(): This method is used to delete an entire collection from the database. It removes all documents and the collection itself. \n",
    "Use it with caution, as it irreversibly deletes data.\n",
    "\n",
    "These methods are used to manage data within a MongoDB collection by deleting specific documents or entire collections as needed.'''"
   ]
  },
  {
   "cell_type": "code",
   "execution_count": null,
   "id": "8b7a838d-c278-4082-bf32-23201158a397",
   "metadata": {},
   "outputs": [],
   "source": []
  }
 ],
 "metadata": {
  "kernelspec": {
   "display_name": "Python 3 (ipykernel)",
   "language": "python",
   "name": "python3"
  },
  "language_info": {
   "codemirror_mode": {
    "name": "ipython",
    "version": 3
   },
   "file_extension": ".py",
   "mimetype": "text/x-python",
   "name": "python",
   "nbconvert_exporter": "python",
   "pygments_lexer": "ipython3",
   "version": "3.10.8"
  }
 },
 "nbformat": 4,
 "nbformat_minor": 5
}
